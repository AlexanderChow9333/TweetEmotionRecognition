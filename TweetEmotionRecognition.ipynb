{
  "nbformat": 4,
  "nbformat_minor": 0,
  "metadata": {
    "colab": {
      "name": "TweetEmotionRecognition.ipynb",
      "provenance": []
    },
    "kernelspec": {
      "display_name": "Python 3",
      "name": "python3"
    },
    "language_info": {
      "name": "python"
    },
    "widgets": {
      "application/vnd.jupyter.widget-state+json": {
        "7dc089a158f543af8e891509740fdf49": {
          "model_module": "@jupyter-widgets/controls",
          "model_name": "HBoxModel",
          "state": {
            "_view_name": "HBoxView",
            "_dom_classes": [],
            "_model_name": "HBoxModel",
            "_view_module": "@jupyter-widgets/controls",
            "_model_module_version": "1.5.0",
            "_view_count": null,
            "_view_module_version": "1.5.0",
            "box_style": "",
            "layout": "IPY_MODEL_12ee1a53521d4bba9899aa90d23211e0",
            "_model_module": "@jupyter-widgets/controls",
            "children": [
              "IPY_MODEL_ae9b653de7954f57b1da4c4cf421d17f",
              "IPY_MODEL_a2802df0b92b4a769c6347126c9fb79d"
            ]
          }
        },
        "12ee1a53521d4bba9899aa90d23211e0": {
          "model_module": "@jupyter-widgets/base",
          "model_name": "LayoutModel",
          "state": {
            "_view_name": "LayoutView",
            "grid_template_rows": null,
            "right": null,
            "justify_content": null,
            "_view_module": "@jupyter-widgets/base",
            "overflow": null,
            "_model_module_version": "1.2.0",
            "_view_count": null,
            "flex_flow": null,
            "width": null,
            "min_width": null,
            "border": null,
            "align_items": null,
            "bottom": null,
            "_model_module": "@jupyter-widgets/base",
            "top": null,
            "grid_column": null,
            "overflow_y": null,
            "overflow_x": null,
            "grid_auto_flow": null,
            "grid_area": null,
            "grid_template_columns": null,
            "flex": null,
            "_model_name": "LayoutModel",
            "justify_items": null,
            "grid_row": null,
            "max_height": null,
            "align_content": null,
            "visibility": null,
            "align_self": null,
            "height": null,
            "min_height": null,
            "padding": null,
            "grid_auto_rows": null,
            "grid_gap": null,
            "max_width": null,
            "order": null,
            "_view_module_version": "1.2.0",
            "grid_template_areas": null,
            "object_position": null,
            "object_fit": null,
            "grid_auto_columns": null,
            "margin": null,
            "display": null,
            "left": null
          }
        },
        "ae9b653de7954f57b1da4c4cf421d17f": {
          "model_module": "@jupyter-widgets/controls",
          "model_name": "FloatProgressModel",
          "state": {
            "_view_name": "ProgressView",
            "style": "IPY_MODEL_b32fa2d583fe45099a57adaa87cb92d3",
            "_dom_classes": [],
            "description": "Downloading: 100%",
            "_model_name": "FloatProgressModel",
            "bar_style": "success",
            "max": 3406,
            "_view_module": "@jupyter-widgets/controls",
            "_model_module_version": "1.5.0",
            "value": 3406,
            "_view_count": null,
            "_view_module_version": "1.5.0",
            "orientation": "horizontal",
            "min": 0,
            "description_tooltip": null,
            "_model_module": "@jupyter-widgets/controls",
            "layout": "IPY_MODEL_3e8da7dc33c04c02ad13593f03209bbb"
          }
        },
        "a2802df0b92b4a769c6347126c9fb79d": {
          "model_module": "@jupyter-widgets/controls",
          "model_name": "HTMLModel",
          "state": {
            "_view_name": "HTMLView",
            "style": "IPY_MODEL_0866af7573c9461a9d67672c6a99288e",
            "_dom_classes": [],
            "description": "",
            "_model_name": "HTMLModel",
            "placeholder": "​",
            "_view_module": "@jupyter-widgets/controls",
            "_model_module_version": "1.5.0",
            "value": " 3.41k/3.41k [00:11&lt;00:00, 309B/s]",
            "_view_count": null,
            "_view_module_version": "1.5.0",
            "description_tooltip": null,
            "_model_module": "@jupyter-widgets/controls",
            "layout": "IPY_MODEL_0e14747aacc54f8da78c85b9385cf08d"
          }
        },
        "b32fa2d583fe45099a57adaa87cb92d3": {
          "model_module": "@jupyter-widgets/controls",
          "model_name": "ProgressStyleModel",
          "state": {
            "_view_name": "StyleView",
            "_model_name": "ProgressStyleModel",
            "description_width": "initial",
            "_view_module": "@jupyter-widgets/base",
            "_model_module_version": "1.5.0",
            "_view_count": null,
            "_view_module_version": "1.2.0",
            "bar_color": null,
            "_model_module": "@jupyter-widgets/controls"
          }
        },
        "3e8da7dc33c04c02ad13593f03209bbb": {
          "model_module": "@jupyter-widgets/base",
          "model_name": "LayoutModel",
          "state": {
            "_view_name": "LayoutView",
            "grid_template_rows": null,
            "right": null,
            "justify_content": null,
            "_view_module": "@jupyter-widgets/base",
            "overflow": null,
            "_model_module_version": "1.2.0",
            "_view_count": null,
            "flex_flow": null,
            "width": null,
            "min_width": null,
            "border": null,
            "align_items": null,
            "bottom": null,
            "_model_module": "@jupyter-widgets/base",
            "top": null,
            "grid_column": null,
            "overflow_y": null,
            "overflow_x": null,
            "grid_auto_flow": null,
            "grid_area": null,
            "grid_template_columns": null,
            "flex": null,
            "_model_name": "LayoutModel",
            "justify_items": null,
            "grid_row": null,
            "max_height": null,
            "align_content": null,
            "visibility": null,
            "align_self": null,
            "height": null,
            "min_height": null,
            "padding": null,
            "grid_auto_rows": null,
            "grid_gap": null,
            "max_width": null,
            "order": null,
            "_view_module_version": "1.2.0",
            "grid_template_areas": null,
            "object_position": null,
            "object_fit": null,
            "grid_auto_columns": null,
            "margin": null,
            "display": null,
            "left": null
          }
        },
        "0866af7573c9461a9d67672c6a99288e": {
          "model_module": "@jupyter-widgets/controls",
          "model_name": "DescriptionStyleModel",
          "state": {
            "_view_name": "StyleView",
            "_model_name": "DescriptionStyleModel",
            "description_width": "",
            "_view_module": "@jupyter-widgets/base",
            "_model_module_version": "1.5.0",
            "_view_count": null,
            "_view_module_version": "1.2.0",
            "_model_module": "@jupyter-widgets/controls"
          }
        },
        "0e14747aacc54f8da78c85b9385cf08d": {
          "model_module": "@jupyter-widgets/base",
          "model_name": "LayoutModel",
          "state": {
            "_view_name": "LayoutView",
            "grid_template_rows": null,
            "right": null,
            "justify_content": null,
            "_view_module": "@jupyter-widgets/base",
            "overflow": null,
            "_model_module_version": "1.2.0",
            "_view_count": null,
            "flex_flow": null,
            "width": null,
            "min_width": null,
            "border": null,
            "align_items": null,
            "bottom": null,
            "_model_module": "@jupyter-widgets/base",
            "top": null,
            "grid_column": null,
            "overflow_y": null,
            "overflow_x": null,
            "grid_auto_flow": null,
            "grid_area": null,
            "grid_template_columns": null,
            "flex": null,
            "_model_name": "LayoutModel",
            "justify_items": null,
            "grid_row": null,
            "max_height": null,
            "align_content": null,
            "visibility": null,
            "align_self": null,
            "height": null,
            "min_height": null,
            "padding": null,
            "grid_auto_rows": null,
            "grid_gap": null,
            "max_width": null,
            "order": null,
            "_view_module_version": "1.2.0",
            "grid_template_areas": null,
            "object_position": null,
            "object_fit": null,
            "grid_auto_columns": null,
            "margin": null,
            "display": null,
            "left": null
          }
        },
        "64ed202afc4047afba752156143496c2": {
          "model_module": "@jupyter-widgets/controls",
          "model_name": "HBoxModel",
          "state": {
            "_view_name": "HBoxView",
            "_dom_classes": [],
            "_model_name": "HBoxModel",
            "_view_module": "@jupyter-widgets/controls",
            "_model_module_version": "1.5.0",
            "_view_count": null,
            "_view_module_version": "1.5.0",
            "box_style": "",
            "layout": "IPY_MODEL_8e88066b57ea46f88a83c5211a53292c",
            "_model_module": "@jupyter-widgets/controls",
            "children": [
              "IPY_MODEL_d13beec73ae94588b3834259daa2735e",
              "IPY_MODEL_3e80d0230c404e4fb4bceb3232c3d630"
            ]
          }
        },
        "8e88066b57ea46f88a83c5211a53292c": {
          "model_module": "@jupyter-widgets/base",
          "model_name": "LayoutModel",
          "state": {
            "_view_name": "LayoutView",
            "grid_template_rows": null,
            "right": null,
            "justify_content": null,
            "_view_module": "@jupyter-widgets/base",
            "overflow": null,
            "_model_module_version": "1.2.0",
            "_view_count": null,
            "flex_flow": null,
            "width": null,
            "min_width": null,
            "border": null,
            "align_items": null,
            "bottom": null,
            "_model_module": "@jupyter-widgets/base",
            "top": null,
            "grid_column": null,
            "overflow_y": null,
            "overflow_x": null,
            "grid_auto_flow": null,
            "grid_area": null,
            "grid_template_columns": null,
            "flex": null,
            "_model_name": "LayoutModel",
            "justify_items": null,
            "grid_row": null,
            "max_height": null,
            "align_content": null,
            "visibility": null,
            "align_self": null,
            "height": null,
            "min_height": null,
            "padding": null,
            "grid_auto_rows": null,
            "grid_gap": null,
            "max_width": null,
            "order": null,
            "_view_module_version": "1.2.0",
            "grid_template_areas": null,
            "object_position": null,
            "object_fit": null,
            "grid_auto_columns": null,
            "margin": null,
            "display": null,
            "left": null
          }
        },
        "d13beec73ae94588b3834259daa2735e": {
          "model_module": "@jupyter-widgets/controls",
          "model_name": "FloatProgressModel",
          "state": {
            "_view_name": "ProgressView",
            "style": "IPY_MODEL_b7141aebb5a8427993d3daf60ada8cf6",
            "_dom_classes": [],
            "description": "Downloading: 100%",
            "_model_name": "FloatProgressModel",
            "bar_style": "success",
            "max": 6011,
            "_view_module": "@jupyter-widgets/controls",
            "_model_module_version": "1.5.0",
            "value": 6011,
            "_view_count": null,
            "_view_module_version": "1.5.0",
            "orientation": "horizontal",
            "min": 0,
            "description_tooltip": null,
            "_model_module": "@jupyter-widgets/controls",
            "layout": "IPY_MODEL_a27e9ff2830d4635853976f513833e0e"
          }
        },
        "3e80d0230c404e4fb4bceb3232c3d630": {
          "model_module": "@jupyter-widgets/controls",
          "model_name": "HTMLModel",
          "state": {
            "_view_name": "HTMLView",
            "style": "IPY_MODEL_0fedb67bc73747ac8935f016aa37ef71",
            "_dom_classes": [],
            "description": "",
            "_model_name": "HTMLModel",
            "placeholder": "​",
            "_view_module": "@jupyter-widgets/controls",
            "_model_module_version": "1.5.0",
            "value": " 6.01k/6.01k [00:00&lt;00:00, 82.3kB/s]",
            "_view_count": null,
            "_view_module_version": "1.5.0",
            "description_tooltip": null,
            "_model_module": "@jupyter-widgets/controls",
            "layout": "IPY_MODEL_d90e8dd78f1844ec94ed907d2ba61a13"
          }
        },
        "b7141aebb5a8427993d3daf60ada8cf6": {
          "model_module": "@jupyter-widgets/controls",
          "model_name": "ProgressStyleModel",
          "state": {
            "_view_name": "StyleView",
            "_model_name": "ProgressStyleModel",
            "description_width": "initial",
            "_view_module": "@jupyter-widgets/base",
            "_model_module_version": "1.5.0",
            "_view_count": null,
            "_view_module_version": "1.2.0",
            "bar_color": null,
            "_model_module": "@jupyter-widgets/controls"
          }
        },
        "a27e9ff2830d4635853976f513833e0e": {
          "model_module": "@jupyter-widgets/base",
          "model_name": "LayoutModel",
          "state": {
            "_view_name": "LayoutView",
            "grid_template_rows": null,
            "right": null,
            "justify_content": null,
            "_view_module": "@jupyter-widgets/base",
            "overflow": null,
            "_model_module_version": "1.2.0",
            "_view_count": null,
            "flex_flow": null,
            "width": null,
            "min_width": null,
            "border": null,
            "align_items": null,
            "bottom": null,
            "_model_module": "@jupyter-widgets/base",
            "top": null,
            "grid_column": null,
            "overflow_y": null,
            "overflow_x": null,
            "grid_auto_flow": null,
            "grid_area": null,
            "grid_template_columns": null,
            "flex": null,
            "_model_name": "LayoutModel",
            "justify_items": null,
            "grid_row": null,
            "max_height": null,
            "align_content": null,
            "visibility": null,
            "align_self": null,
            "height": null,
            "min_height": null,
            "padding": null,
            "grid_auto_rows": null,
            "grid_gap": null,
            "max_width": null,
            "order": null,
            "_view_module_version": "1.2.0",
            "grid_template_areas": null,
            "object_position": null,
            "object_fit": null,
            "grid_auto_columns": null,
            "margin": null,
            "display": null,
            "left": null
          }
        },
        "0fedb67bc73747ac8935f016aa37ef71": {
          "model_module": "@jupyter-widgets/controls",
          "model_name": "DescriptionStyleModel",
          "state": {
            "_view_name": "StyleView",
            "_model_name": "DescriptionStyleModel",
            "description_width": "",
            "_view_module": "@jupyter-widgets/base",
            "_model_module_version": "1.5.0",
            "_view_count": null,
            "_view_module_version": "1.2.0",
            "_model_module": "@jupyter-widgets/controls"
          }
        },
        "d90e8dd78f1844ec94ed907d2ba61a13": {
          "model_module": "@jupyter-widgets/base",
          "model_name": "LayoutModel",
          "state": {
            "_view_name": "LayoutView",
            "grid_template_rows": null,
            "right": null,
            "justify_content": null,
            "_view_module": "@jupyter-widgets/base",
            "overflow": null,
            "_model_module_version": "1.2.0",
            "_view_count": null,
            "flex_flow": null,
            "width": null,
            "min_width": null,
            "border": null,
            "align_items": null,
            "bottom": null,
            "_model_module": "@jupyter-widgets/base",
            "top": null,
            "grid_column": null,
            "overflow_y": null,
            "overflow_x": null,
            "grid_auto_flow": null,
            "grid_area": null,
            "grid_template_columns": null,
            "flex": null,
            "_model_name": "LayoutModel",
            "justify_items": null,
            "grid_row": null,
            "max_height": null,
            "align_content": null,
            "visibility": null,
            "align_self": null,
            "height": null,
            "min_height": null,
            "padding": null,
            "grid_auto_rows": null,
            "grid_gap": null,
            "max_width": null,
            "order": null,
            "_view_module_version": "1.2.0",
            "grid_template_areas": null,
            "object_position": null,
            "object_fit": null,
            "grid_auto_columns": null,
            "margin": null,
            "display": null,
            "left": null
          }
        },
        "18a49cc4022c4d1085c95f423777f77a": {
          "model_module": "@jupyter-widgets/controls",
          "model_name": "HBoxModel",
          "state": {
            "_view_name": "HBoxView",
            "_dom_classes": [],
            "_model_name": "HBoxModel",
            "_view_module": "@jupyter-widgets/controls",
            "_model_module_version": "1.5.0",
            "_view_count": null,
            "_view_module_version": "1.5.0",
            "box_style": "",
            "layout": "IPY_MODEL_e97ad72a10b540f8a9b64842c26c9ebc",
            "_model_module": "@jupyter-widgets/controls",
            "children": [
              "IPY_MODEL_ea52d9aae8214d619e3c10fa0a9738a3",
              "IPY_MODEL_52ab1d0104bd4c488bf8c130c9e6f9b5"
            ]
          }
        },
        "e97ad72a10b540f8a9b64842c26c9ebc": {
          "model_module": "@jupyter-widgets/base",
          "model_name": "LayoutModel",
          "state": {
            "_view_name": "LayoutView",
            "grid_template_rows": null,
            "right": null,
            "justify_content": null,
            "_view_module": "@jupyter-widgets/base",
            "overflow": null,
            "_model_module_version": "1.2.0",
            "_view_count": null,
            "flex_flow": null,
            "width": null,
            "min_width": null,
            "border": null,
            "align_items": null,
            "bottom": null,
            "_model_module": "@jupyter-widgets/base",
            "top": null,
            "grid_column": null,
            "overflow_y": null,
            "overflow_x": null,
            "grid_auto_flow": null,
            "grid_area": null,
            "grid_template_columns": null,
            "flex": null,
            "_model_name": "LayoutModel",
            "justify_items": null,
            "grid_row": null,
            "max_height": null,
            "align_content": null,
            "visibility": null,
            "align_self": null,
            "height": null,
            "min_height": null,
            "padding": null,
            "grid_auto_rows": null,
            "grid_gap": null,
            "max_width": null,
            "order": null,
            "_view_module_version": "1.2.0",
            "grid_template_areas": null,
            "object_position": null,
            "object_fit": null,
            "grid_auto_columns": null,
            "margin": null,
            "display": null,
            "left": null
          }
        },
        "ea52d9aae8214d619e3c10fa0a9738a3": {
          "model_module": "@jupyter-widgets/controls",
          "model_name": "FloatProgressModel",
          "state": {
            "_view_name": "ProgressView",
            "style": "IPY_MODEL_496a5cf1058c4674aa13dd32324114dd",
            "_dom_classes": [],
            "description": "Downloading: 100%",
            "_model_name": "FloatProgressModel",
            "bar_style": "success",
            "max": 1658616,
            "_view_module": "@jupyter-widgets/controls",
            "_model_module_version": "1.5.0",
            "value": 1658616,
            "_view_count": null,
            "_view_module_version": "1.5.0",
            "orientation": "horizontal",
            "min": 0,
            "description_tooltip": null,
            "_model_module": "@jupyter-widgets/controls",
            "layout": "IPY_MODEL_6e69585d20bf48cc81e355506bbac0f3"
          }
        },
        "52ab1d0104bd4c488bf8c130c9e6f9b5": {
          "model_module": "@jupyter-widgets/controls",
          "model_name": "HTMLModel",
          "state": {
            "_view_name": "HTMLView",
            "style": "IPY_MODEL_926143dd930e4860a1ea81aebb466241",
            "_dom_classes": [],
            "description": "",
            "_model_name": "HTMLModel",
            "placeholder": "​",
            "_view_module": "@jupyter-widgets/controls",
            "_model_module_version": "1.5.0",
            "value": " 1.66M/1.66M [00:06&lt;00:00, 238kB/s]",
            "_view_count": null,
            "_view_module_version": "1.5.0",
            "description_tooltip": null,
            "_model_module": "@jupyter-widgets/controls",
            "layout": "IPY_MODEL_8a6f45a879d64e15862cfcb863e5dcf5"
          }
        },
        "496a5cf1058c4674aa13dd32324114dd": {
          "model_module": "@jupyter-widgets/controls",
          "model_name": "ProgressStyleModel",
          "state": {
            "_view_name": "StyleView",
            "_model_name": "ProgressStyleModel",
            "description_width": "initial",
            "_view_module": "@jupyter-widgets/base",
            "_model_module_version": "1.5.0",
            "_view_count": null,
            "_view_module_version": "1.2.0",
            "bar_color": null,
            "_model_module": "@jupyter-widgets/controls"
          }
        },
        "6e69585d20bf48cc81e355506bbac0f3": {
          "model_module": "@jupyter-widgets/base",
          "model_name": "LayoutModel",
          "state": {
            "_view_name": "LayoutView",
            "grid_template_rows": null,
            "right": null,
            "justify_content": null,
            "_view_module": "@jupyter-widgets/base",
            "overflow": null,
            "_model_module_version": "1.2.0",
            "_view_count": null,
            "flex_flow": null,
            "width": null,
            "min_width": null,
            "border": null,
            "align_items": null,
            "bottom": null,
            "_model_module": "@jupyter-widgets/base",
            "top": null,
            "grid_column": null,
            "overflow_y": null,
            "overflow_x": null,
            "grid_auto_flow": null,
            "grid_area": null,
            "grid_template_columns": null,
            "flex": null,
            "_model_name": "LayoutModel",
            "justify_items": null,
            "grid_row": null,
            "max_height": null,
            "align_content": null,
            "visibility": null,
            "align_self": null,
            "height": null,
            "min_height": null,
            "padding": null,
            "grid_auto_rows": null,
            "grid_gap": null,
            "max_width": null,
            "order": null,
            "_view_module_version": "1.2.0",
            "grid_template_areas": null,
            "object_position": null,
            "object_fit": null,
            "grid_auto_columns": null,
            "margin": null,
            "display": null,
            "left": null
          }
        },
        "926143dd930e4860a1ea81aebb466241": {
          "model_module": "@jupyter-widgets/controls",
          "model_name": "DescriptionStyleModel",
          "state": {
            "_view_name": "StyleView",
            "_model_name": "DescriptionStyleModel",
            "description_width": "",
            "_view_module": "@jupyter-widgets/base",
            "_model_module_version": "1.5.0",
            "_view_count": null,
            "_view_module_version": "1.2.0",
            "_model_module": "@jupyter-widgets/controls"
          }
        },
        "8a6f45a879d64e15862cfcb863e5dcf5": {
          "model_module": "@jupyter-widgets/base",
          "model_name": "LayoutModel",
          "state": {
            "_view_name": "LayoutView",
            "grid_template_rows": null,
            "right": null,
            "justify_content": null,
            "_view_module": "@jupyter-widgets/base",
            "overflow": null,
            "_model_module_version": "1.2.0",
            "_view_count": null,
            "flex_flow": null,
            "width": null,
            "min_width": null,
            "border": null,
            "align_items": null,
            "bottom": null,
            "_model_module": "@jupyter-widgets/base",
            "top": null,
            "grid_column": null,
            "overflow_y": null,
            "overflow_x": null,
            "grid_auto_flow": null,
            "grid_area": null,
            "grid_template_columns": null,
            "flex": null,
            "_model_name": "LayoutModel",
            "justify_items": null,
            "grid_row": null,
            "max_height": null,
            "align_content": null,
            "visibility": null,
            "align_self": null,
            "height": null,
            "min_height": null,
            "padding": null,
            "grid_auto_rows": null,
            "grid_gap": null,
            "max_width": null,
            "order": null,
            "_view_module_version": "1.2.0",
            "grid_template_areas": null,
            "object_position": null,
            "object_fit": null,
            "grid_auto_columns": null,
            "margin": null,
            "display": null,
            "left": null
          }
        },
        "ee574a16d8c443cbbeba2fadfe5bce03": {
          "model_module": "@jupyter-widgets/controls",
          "model_name": "HBoxModel",
          "state": {
            "_view_name": "HBoxView",
            "_dom_classes": [],
            "_model_name": "HBoxModel",
            "_view_module": "@jupyter-widgets/controls",
            "_model_module_version": "1.5.0",
            "_view_count": null,
            "_view_module_version": "1.5.0",
            "box_style": "",
            "layout": "IPY_MODEL_00ba6234ce674603a694f20b4556acbc",
            "_model_module": "@jupyter-widgets/controls",
            "children": [
              "IPY_MODEL_ecad4b4951534b6491f0a2ce1ed0329a",
              "IPY_MODEL_3a78f606f82e420a938e91aa346843d8"
            ]
          }
        },
        "00ba6234ce674603a694f20b4556acbc": {
          "model_module": "@jupyter-widgets/base",
          "model_name": "LayoutModel",
          "state": {
            "_view_name": "LayoutView",
            "grid_template_rows": null,
            "right": null,
            "justify_content": null,
            "_view_module": "@jupyter-widgets/base",
            "overflow": null,
            "_model_module_version": "1.2.0",
            "_view_count": null,
            "flex_flow": null,
            "width": null,
            "min_width": null,
            "border": null,
            "align_items": null,
            "bottom": null,
            "_model_module": "@jupyter-widgets/base",
            "top": null,
            "grid_column": null,
            "overflow_y": null,
            "overflow_x": null,
            "grid_auto_flow": null,
            "grid_area": null,
            "grid_template_columns": null,
            "flex": null,
            "_model_name": "LayoutModel",
            "justify_items": null,
            "grid_row": null,
            "max_height": null,
            "align_content": null,
            "visibility": null,
            "align_self": null,
            "height": null,
            "min_height": null,
            "padding": null,
            "grid_auto_rows": null,
            "grid_gap": null,
            "max_width": null,
            "order": null,
            "_view_module_version": "1.2.0",
            "grid_template_areas": null,
            "object_position": null,
            "object_fit": null,
            "grid_auto_columns": null,
            "margin": null,
            "display": null,
            "left": null
          }
        },
        "ecad4b4951534b6491f0a2ce1ed0329a": {
          "model_module": "@jupyter-widgets/controls",
          "model_name": "FloatProgressModel",
          "state": {
            "_view_name": "ProgressView",
            "style": "IPY_MODEL_d3640762ff2e47e9bbc3b1a93bf7e3dd",
            "_dom_classes": [],
            "description": "Downloading: 100%",
            "_model_name": "FloatProgressModel",
            "bar_style": "success",
            "max": 204240,
            "_view_module": "@jupyter-widgets/controls",
            "_model_module_version": "1.5.0",
            "value": 204240,
            "_view_count": null,
            "_view_module_version": "1.5.0",
            "orientation": "horizontal",
            "min": 0,
            "description_tooltip": null,
            "_model_module": "@jupyter-widgets/controls",
            "layout": "IPY_MODEL_6abb1d571bd5489196651e0de8c198d5"
          }
        },
        "3a78f606f82e420a938e91aa346843d8": {
          "model_module": "@jupyter-widgets/controls",
          "model_name": "HTMLModel",
          "state": {
            "_view_name": "HTMLView",
            "style": "IPY_MODEL_85ac8ba09b764dceb528907cdba01a4f",
            "_dom_classes": [],
            "description": "",
            "_model_name": "HTMLModel",
            "placeholder": "​",
            "_view_module": "@jupyter-widgets/controls",
            "_model_module_version": "1.5.0",
            "value": " 204k/204k [00:03&lt;00:00, 52.8kB/s]",
            "_view_count": null,
            "_view_module_version": "1.5.0",
            "description_tooltip": null,
            "_model_module": "@jupyter-widgets/controls",
            "layout": "IPY_MODEL_ebc58c96f61f4eec902da9922a6ad862"
          }
        },
        "d3640762ff2e47e9bbc3b1a93bf7e3dd": {
          "model_module": "@jupyter-widgets/controls",
          "model_name": "ProgressStyleModel",
          "state": {
            "_view_name": "StyleView",
            "_model_name": "ProgressStyleModel",
            "description_width": "initial",
            "_view_module": "@jupyter-widgets/base",
            "_model_module_version": "1.5.0",
            "_view_count": null,
            "_view_module_version": "1.2.0",
            "bar_color": null,
            "_model_module": "@jupyter-widgets/controls"
          }
        },
        "6abb1d571bd5489196651e0de8c198d5": {
          "model_module": "@jupyter-widgets/base",
          "model_name": "LayoutModel",
          "state": {
            "_view_name": "LayoutView",
            "grid_template_rows": null,
            "right": null,
            "justify_content": null,
            "_view_module": "@jupyter-widgets/base",
            "overflow": null,
            "_model_module_version": "1.2.0",
            "_view_count": null,
            "flex_flow": null,
            "width": null,
            "min_width": null,
            "border": null,
            "align_items": null,
            "bottom": null,
            "_model_module": "@jupyter-widgets/base",
            "top": null,
            "grid_column": null,
            "overflow_y": null,
            "overflow_x": null,
            "grid_auto_flow": null,
            "grid_area": null,
            "grid_template_columns": null,
            "flex": null,
            "_model_name": "LayoutModel",
            "justify_items": null,
            "grid_row": null,
            "max_height": null,
            "align_content": null,
            "visibility": null,
            "align_self": null,
            "height": null,
            "min_height": null,
            "padding": null,
            "grid_auto_rows": null,
            "grid_gap": null,
            "max_width": null,
            "order": null,
            "_view_module_version": "1.2.0",
            "grid_template_areas": null,
            "object_position": null,
            "object_fit": null,
            "grid_auto_columns": null,
            "margin": null,
            "display": null,
            "left": null
          }
        },
        "85ac8ba09b764dceb528907cdba01a4f": {
          "model_module": "@jupyter-widgets/controls",
          "model_name": "DescriptionStyleModel",
          "state": {
            "_view_name": "StyleView",
            "_model_name": "DescriptionStyleModel",
            "description_width": "",
            "_view_module": "@jupyter-widgets/base",
            "_model_module_version": "1.5.0",
            "_view_count": null,
            "_view_module_version": "1.2.0",
            "_model_module": "@jupyter-widgets/controls"
          }
        },
        "ebc58c96f61f4eec902da9922a6ad862": {
          "model_module": "@jupyter-widgets/base",
          "model_name": "LayoutModel",
          "state": {
            "_view_name": "LayoutView",
            "grid_template_rows": null,
            "right": null,
            "justify_content": null,
            "_view_module": "@jupyter-widgets/base",
            "overflow": null,
            "_model_module_version": "1.2.0",
            "_view_count": null,
            "flex_flow": null,
            "width": null,
            "min_width": null,
            "border": null,
            "align_items": null,
            "bottom": null,
            "_model_module": "@jupyter-widgets/base",
            "top": null,
            "grid_column": null,
            "overflow_y": null,
            "overflow_x": null,
            "grid_auto_flow": null,
            "grid_area": null,
            "grid_template_columns": null,
            "flex": null,
            "_model_name": "LayoutModel",
            "justify_items": null,
            "grid_row": null,
            "max_height": null,
            "align_content": null,
            "visibility": null,
            "align_self": null,
            "height": null,
            "min_height": null,
            "padding": null,
            "grid_auto_rows": null,
            "grid_gap": null,
            "max_width": null,
            "order": null,
            "_view_module_version": "1.2.0",
            "grid_template_areas": null,
            "object_position": null,
            "object_fit": null,
            "grid_auto_columns": null,
            "margin": null,
            "display": null,
            "left": null
          }
        },
        "6eeb69f9972b44119cbcb8b3afb85b7f": {
          "model_module": "@jupyter-widgets/controls",
          "model_name": "HBoxModel",
          "state": {
            "_view_name": "HBoxView",
            "_dom_classes": [],
            "_model_name": "HBoxModel",
            "_view_module": "@jupyter-widgets/controls",
            "_model_module_version": "1.5.0",
            "_view_count": null,
            "_view_module_version": "1.5.0",
            "box_style": "",
            "layout": "IPY_MODEL_a5af22fb5f914b4ca887f681174ba173",
            "_model_module": "@jupyter-widgets/controls",
            "children": [
              "IPY_MODEL_43425ac8ae0e4467981ec691367174cc",
              "IPY_MODEL_d59141adbcf843638b0b10d8829c7e41"
            ]
          }
        },
        "a5af22fb5f914b4ca887f681174ba173": {
          "model_module": "@jupyter-widgets/base",
          "model_name": "LayoutModel",
          "state": {
            "_view_name": "LayoutView",
            "grid_template_rows": null,
            "right": null,
            "justify_content": null,
            "_view_module": "@jupyter-widgets/base",
            "overflow": null,
            "_model_module_version": "1.2.0",
            "_view_count": null,
            "flex_flow": null,
            "width": null,
            "min_width": null,
            "border": null,
            "align_items": null,
            "bottom": null,
            "_model_module": "@jupyter-widgets/base",
            "top": null,
            "grid_column": null,
            "overflow_y": null,
            "overflow_x": null,
            "grid_auto_flow": null,
            "grid_area": null,
            "grid_template_columns": null,
            "flex": null,
            "_model_name": "LayoutModel",
            "justify_items": null,
            "grid_row": null,
            "max_height": null,
            "align_content": null,
            "visibility": null,
            "align_self": null,
            "height": null,
            "min_height": null,
            "padding": null,
            "grid_auto_rows": null,
            "grid_gap": null,
            "max_width": null,
            "order": null,
            "_view_module_version": "1.2.0",
            "grid_template_areas": null,
            "object_position": null,
            "object_fit": null,
            "grid_auto_columns": null,
            "margin": null,
            "display": null,
            "left": null
          }
        },
        "43425ac8ae0e4467981ec691367174cc": {
          "model_module": "@jupyter-widgets/controls",
          "model_name": "FloatProgressModel",
          "state": {
            "_view_name": "ProgressView",
            "style": "IPY_MODEL_a7f07ff486b54176a90d8ba0cbd1fa0a",
            "_dom_classes": [],
            "description": "Downloading: 100%",
            "_model_name": "FloatProgressModel",
            "bar_style": "success",
            "max": 206760,
            "_view_module": "@jupyter-widgets/controls",
            "_model_module_version": "1.5.0",
            "value": 206760,
            "_view_count": null,
            "_view_module_version": "1.5.0",
            "orientation": "horizontal",
            "min": 0,
            "description_tooltip": null,
            "_model_module": "@jupyter-widgets/controls",
            "layout": "IPY_MODEL_a35af837ce9b4e28bbf0e5439f0543a5"
          }
        },
        "d59141adbcf843638b0b10d8829c7e41": {
          "model_module": "@jupyter-widgets/controls",
          "model_name": "HTMLModel",
          "state": {
            "_view_name": "HTMLView",
            "style": "IPY_MODEL_9522e607a5b7446e954a01a3126e9319",
            "_dom_classes": [],
            "description": "",
            "_model_name": "HTMLModel",
            "placeholder": "​",
            "_view_module": "@jupyter-widgets/controls",
            "_model_module_version": "1.5.0",
            "value": " 207k/207k [00:00&lt;00:00, 430kB/s]",
            "_view_count": null,
            "_view_module_version": "1.5.0",
            "description_tooltip": null,
            "_model_module": "@jupyter-widgets/controls",
            "layout": "IPY_MODEL_0e2d198838794d7aa963760b9bbfc127"
          }
        },
        "a7f07ff486b54176a90d8ba0cbd1fa0a": {
          "model_module": "@jupyter-widgets/controls",
          "model_name": "ProgressStyleModel",
          "state": {
            "_view_name": "StyleView",
            "_model_name": "ProgressStyleModel",
            "description_width": "initial",
            "_view_module": "@jupyter-widgets/base",
            "_model_module_version": "1.5.0",
            "_view_count": null,
            "_view_module_version": "1.2.0",
            "bar_color": null,
            "_model_module": "@jupyter-widgets/controls"
          }
        },
        "a35af837ce9b4e28bbf0e5439f0543a5": {
          "model_module": "@jupyter-widgets/base",
          "model_name": "LayoutModel",
          "state": {
            "_view_name": "LayoutView",
            "grid_template_rows": null,
            "right": null,
            "justify_content": null,
            "_view_module": "@jupyter-widgets/base",
            "overflow": null,
            "_model_module_version": "1.2.0",
            "_view_count": null,
            "flex_flow": null,
            "width": null,
            "min_width": null,
            "border": null,
            "align_items": null,
            "bottom": null,
            "_model_module": "@jupyter-widgets/base",
            "top": null,
            "grid_column": null,
            "overflow_y": null,
            "overflow_x": null,
            "grid_auto_flow": null,
            "grid_area": null,
            "grid_template_columns": null,
            "flex": null,
            "_model_name": "LayoutModel",
            "justify_items": null,
            "grid_row": null,
            "max_height": null,
            "align_content": null,
            "visibility": null,
            "align_self": null,
            "height": null,
            "min_height": null,
            "padding": null,
            "grid_auto_rows": null,
            "grid_gap": null,
            "max_width": null,
            "order": null,
            "_view_module_version": "1.2.0",
            "grid_template_areas": null,
            "object_position": null,
            "object_fit": null,
            "grid_auto_columns": null,
            "margin": null,
            "display": null,
            "left": null
          }
        },
        "9522e607a5b7446e954a01a3126e9319": {
          "model_module": "@jupyter-widgets/controls",
          "model_name": "DescriptionStyleModel",
          "state": {
            "_view_name": "StyleView",
            "_model_name": "DescriptionStyleModel",
            "description_width": "",
            "_view_module": "@jupyter-widgets/base",
            "_model_module_version": "1.5.0",
            "_view_count": null,
            "_view_module_version": "1.2.0",
            "_model_module": "@jupyter-widgets/controls"
          }
        },
        "0e2d198838794d7aa963760b9bbfc127": {
          "model_module": "@jupyter-widgets/base",
          "model_name": "LayoutModel",
          "state": {
            "_view_name": "LayoutView",
            "grid_template_rows": null,
            "right": null,
            "justify_content": null,
            "_view_module": "@jupyter-widgets/base",
            "overflow": null,
            "_model_module_version": "1.2.0",
            "_view_count": null,
            "flex_flow": null,
            "width": null,
            "min_width": null,
            "border": null,
            "align_items": null,
            "bottom": null,
            "_model_module": "@jupyter-widgets/base",
            "top": null,
            "grid_column": null,
            "overflow_y": null,
            "overflow_x": null,
            "grid_auto_flow": null,
            "grid_area": null,
            "grid_template_columns": null,
            "flex": null,
            "_model_name": "LayoutModel",
            "justify_items": null,
            "grid_row": null,
            "max_height": null,
            "align_content": null,
            "visibility": null,
            "align_self": null,
            "height": null,
            "min_height": null,
            "padding": null,
            "grid_auto_rows": null,
            "grid_gap": null,
            "max_width": null,
            "order": null,
            "_view_module_version": "1.2.0",
            "grid_template_areas": null,
            "object_position": null,
            "object_fit": null,
            "grid_auto_columns": null,
            "margin": null,
            "display": null,
            "left": null
          }
        },
        "0f6ede1aba4f470cae1fe5b7c98b765a": {
          "model_module": "@jupyter-widgets/controls",
          "model_name": "HBoxModel",
          "state": {
            "_view_name": "HBoxView",
            "_dom_classes": [],
            "_model_name": "HBoxModel",
            "_view_module": "@jupyter-widgets/controls",
            "_model_module_version": "1.5.0",
            "_view_count": null,
            "_view_module_version": "1.5.0",
            "box_style": "",
            "layout": "IPY_MODEL_37eec438711c4366a058c88b73d9fe65",
            "_model_module": "@jupyter-widgets/controls",
            "children": [
              "IPY_MODEL_e161a3e85812446e8ddb9ea3255620c6",
              "IPY_MODEL_17fd4b381e97408db5d7bf8af865375d"
            ]
          }
        },
        "37eec438711c4366a058c88b73d9fe65": {
          "model_module": "@jupyter-widgets/base",
          "model_name": "LayoutModel",
          "state": {
            "_view_name": "LayoutView",
            "grid_template_rows": null,
            "right": null,
            "justify_content": null,
            "_view_module": "@jupyter-widgets/base",
            "overflow": null,
            "_model_module_version": "1.2.0",
            "_view_count": null,
            "flex_flow": null,
            "width": null,
            "min_width": null,
            "border": null,
            "align_items": null,
            "bottom": null,
            "_model_module": "@jupyter-widgets/base",
            "top": null,
            "grid_column": null,
            "overflow_y": null,
            "overflow_x": null,
            "grid_auto_flow": null,
            "grid_area": null,
            "grid_template_columns": null,
            "flex": null,
            "_model_name": "LayoutModel",
            "justify_items": null,
            "grid_row": null,
            "max_height": null,
            "align_content": null,
            "visibility": null,
            "align_self": null,
            "height": null,
            "min_height": null,
            "padding": null,
            "grid_auto_rows": null,
            "grid_gap": null,
            "max_width": null,
            "order": null,
            "_view_module_version": "1.2.0",
            "grid_template_areas": null,
            "object_position": null,
            "object_fit": null,
            "grid_auto_columns": null,
            "margin": null,
            "display": null,
            "left": null
          }
        },
        "e161a3e85812446e8ddb9ea3255620c6": {
          "model_module": "@jupyter-widgets/controls",
          "model_name": "FloatProgressModel",
          "state": {
            "_view_name": "ProgressView",
            "style": "IPY_MODEL_1ed39042effe440b8f514b75faed537b",
            "_dom_classes": [],
            "description": "",
            "_model_name": "FloatProgressModel",
            "bar_style": "info",
            "max": 1,
            "_view_module": "@jupyter-widgets/controls",
            "_model_module_version": "1.5.0",
            "value": 1,
            "_view_count": null,
            "_view_module_version": "1.5.0",
            "orientation": "horizontal",
            "min": 0,
            "description_tooltip": null,
            "_model_module": "@jupyter-widgets/controls",
            "layout": "IPY_MODEL_8dacec3d69d24cf6bf3aa567c03a93d1"
          }
        },
        "17fd4b381e97408db5d7bf8af865375d": {
          "model_module": "@jupyter-widgets/controls",
          "model_name": "HTMLModel",
          "state": {
            "_view_name": "HTMLView",
            "style": "IPY_MODEL_c768a70666994683abd8335cfab04f6b",
            "_dom_classes": [],
            "description": "",
            "_model_name": "HTMLModel",
            "placeholder": "​",
            "_view_module": "@jupyter-widgets/controls",
            "_model_module_version": "1.5.0",
            "value": " 16000/0 [00:00&lt;00:00, 14963.25 examples/s]",
            "_view_count": null,
            "_view_module_version": "1.5.0",
            "description_tooltip": null,
            "_model_module": "@jupyter-widgets/controls",
            "layout": "IPY_MODEL_5ee35ddbc9ca4db2a4c3fa2140539033"
          }
        },
        "1ed39042effe440b8f514b75faed537b": {
          "model_module": "@jupyter-widgets/controls",
          "model_name": "ProgressStyleModel",
          "state": {
            "_view_name": "StyleView",
            "_model_name": "ProgressStyleModel",
            "description_width": "initial",
            "_view_module": "@jupyter-widgets/base",
            "_model_module_version": "1.5.0",
            "_view_count": null,
            "_view_module_version": "1.2.0",
            "bar_color": null,
            "_model_module": "@jupyter-widgets/controls"
          }
        },
        "8dacec3d69d24cf6bf3aa567c03a93d1": {
          "model_module": "@jupyter-widgets/base",
          "model_name": "LayoutModel",
          "state": {
            "_view_name": "LayoutView",
            "grid_template_rows": null,
            "right": null,
            "justify_content": null,
            "_view_module": "@jupyter-widgets/base",
            "overflow": null,
            "_model_module_version": "1.2.0",
            "_view_count": null,
            "flex_flow": null,
            "width": null,
            "min_width": null,
            "border": null,
            "align_items": null,
            "bottom": null,
            "_model_module": "@jupyter-widgets/base",
            "top": null,
            "grid_column": null,
            "overflow_y": null,
            "overflow_x": null,
            "grid_auto_flow": null,
            "grid_area": null,
            "grid_template_columns": null,
            "flex": null,
            "_model_name": "LayoutModel",
            "justify_items": null,
            "grid_row": null,
            "max_height": null,
            "align_content": null,
            "visibility": null,
            "align_self": null,
            "height": null,
            "min_height": null,
            "padding": null,
            "grid_auto_rows": null,
            "grid_gap": null,
            "max_width": null,
            "order": null,
            "_view_module_version": "1.2.0",
            "grid_template_areas": null,
            "object_position": null,
            "object_fit": null,
            "grid_auto_columns": null,
            "margin": null,
            "display": null,
            "left": null
          }
        },
        "c768a70666994683abd8335cfab04f6b": {
          "model_module": "@jupyter-widgets/controls",
          "model_name": "DescriptionStyleModel",
          "state": {
            "_view_name": "StyleView",
            "_model_name": "DescriptionStyleModel",
            "description_width": "",
            "_view_module": "@jupyter-widgets/base",
            "_model_module_version": "1.5.0",
            "_view_count": null,
            "_view_module_version": "1.2.0",
            "_model_module": "@jupyter-widgets/controls"
          }
        },
        "5ee35ddbc9ca4db2a4c3fa2140539033": {
          "model_module": "@jupyter-widgets/base",
          "model_name": "LayoutModel",
          "state": {
            "_view_name": "LayoutView",
            "grid_template_rows": null,
            "right": null,
            "justify_content": null,
            "_view_module": "@jupyter-widgets/base",
            "overflow": null,
            "_model_module_version": "1.2.0",
            "_view_count": null,
            "flex_flow": null,
            "width": null,
            "min_width": null,
            "border": null,
            "align_items": null,
            "bottom": null,
            "_model_module": "@jupyter-widgets/base",
            "top": null,
            "grid_column": null,
            "overflow_y": null,
            "overflow_x": null,
            "grid_auto_flow": null,
            "grid_area": null,
            "grid_template_columns": null,
            "flex": null,
            "_model_name": "LayoutModel",
            "justify_items": null,
            "grid_row": null,
            "max_height": null,
            "align_content": null,
            "visibility": null,
            "align_self": null,
            "height": null,
            "min_height": null,
            "padding": null,
            "grid_auto_rows": null,
            "grid_gap": null,
            "max_width": null,
            "order": null,
            "_view_module_version": "1.2.0",
            "grid_template_areas": null,
            "object_position": null,
            "object_fit": null,
            "grid_auto_columns": null,
            "margin": null,
            "display": null,
            "left": null
          }
        },
        "5f6628daaa0e4eee89354992e35af16a": {
          "model_module": "@jupyter-widgets/controls",
          "model_name": "HBoxModel",
          "state": {
            "_view_name": "HBoxView",
            "_dom_classes": [],
            "_model_name": "HBoxModel",
            "_view_module": "@jupyter-widgets/controls",
            "_model_module_version": "1.5.0",
            "_view_count": null,
            "_view_module_version": "1.5.0",
            "box_style": "",
            "layout": "IPY_MODEL_3752a82505824bbbaba64e404d9fbe69",
            "_model_module": "@jupyter-widgets/controls",
            "children": [
              "IPY_MODEL_18dd2dfe198a4b6c87db9e3cdcd8654d",
              "IPY_MODEL_22907fc8b32f467680d440dd82202eda"
            ]
          }
        },
        "3752a82505824bbbaba64e404d9fbe69": {
          "model_module": "@jupyter-widgets/base",
          "model_name": "LayoutModel",
          "state": {
            "_view_name": "LayoutView",
            "grid_template_rows": null,
            "right": null,
            "justify_content": null,
            "_view_module": "@jupyter-widgets/base",
            "overflow": null,
            "_model_module_version": "1.2.0",
            "_view_count": null,
            "flex_flow": null,
            "width": null,
            "min_width": null,
            "border": null,
            "align_items": null,
            "bottom": null,
            "_model_module": "@jupyter-widgets/base",
            "top": null,
            "grid_column": null,
            "overflow_y": null,
            "overflow_x": null,
            "grid_auto_flow": null,
            "grid_area": null,
            "grid_template_columns": null,
            "flex": null,
            "_model_name": "LayoutModel",
            "justify_items": null,
            "grid_row": null,
            "max_height": null,
            "align_content": null,
            "visibility": null,
            "align_self": null,
            "height": null,
            "min_height": null,
            "padding": null,
            "grid_auto_rows": null,
            "grid_gap": null,
            "max_width": null,
            "order": null,
            "_view_module_version": "1.2.0",
            "grid_template_areas": null,
            "object_position": null,
            "object_fit": null,
            "grid_auto_columns": null,
            "margin": null,
            "display": null,
            "left": null
          }
        },
        "18dd2dfe198a4b6c87db9e3cdcd8654d": {
          "model_module": "@jupyter-widgets/controls",
          "model_name": "FloatProgressModel",
          "state": {
            "_view_name": "ProgressView",
            "style": "IPY_MODEL_ccd8b537e4d54a6d8f85a1ab933da3ea",
            "_dom_classes": [],
            "description": "",
            "_model_name": "FloatProgressModel",
            "bar_style": "info",
            "max": 1,
            "_view_module": "@jupyter-widgets/controls",
            "_model_module_version": "1.5.0",
            "value": 1,
            "_view_count": null,
            "_view_module_version": "1.5.0",
            "orientation": "horizontal",
            "min": 0,
            "description_tooltip": null,
            "_model_module": "@jupyter-widgets/controls",
            "layout": "IPY_MODEL_c66f54e3bbbe4e4fbe85739abfe72ecc"
          }
        },
        "22907fc8b32f467680d440dd82202eda": {
          "model_module": "@jupyter-widgets/controls",
          "model_name": "HTMLModel",
          "state": {
            "_view_name": "HTMLView",
            "style": "IPY_MODEL_350a6469a4bb4d35aeb14dc47ade0bf2",
            "_dom_classes": [],
            "description": "",
            "_model_name": "HTMLModel",
            "placeholder": "​",
            "_view_module": "@jupyter-widgets/controls",
            "_model_module_version": "1.5.0",
            "value": " 2000/0 [00:00&lt;00:00, 17197.31 examples/s]",
            "_view_count": null,
            "_view_module_version": "1.5.0",
            "description_tooltip": null,
            "_model_module": "@jupyter-widgets/controls",
            "layout": "IPY_MODEL_c55dafe417ae4840aa8f1e0d63a664ff"
          }
        },
        "ccd8b537e4d54a6d8f85a1ab933da3ea": {
          "model_module": "@jupyter-widgets/controls",
          "model_name": "ProgressStyleModel",
          "state": {
            "_view_name": "StyleView",
            "_model_name": "ProgressStyleModel",
            "description_width": "initial",
            "_view_module": "@jupyter-widgets/base",
            "_model_module_version": "1.5.0",
            "_view_count": null,
            "_view_module_version": "1.2.0",
            "bar_color": null,
            "_model_module": "@jupyter-widgets/controls"
          }
        },
        "c66f54e3bbbe4e4fbe85739abfe72ecc": {
          "model_module": "@jupyter-widgets/base",
          "model_name": "LayoutModel",
          "state": {
            "_view_name": "LayoutView",
            "grid_template_rows": null,
            "right": null,
            "justify_content": null,
            "_view_module": "@jupyter-widgets/base",
            "overflow": null,
            "_model_module_version": "1.2.0",
            "_view_count": null,
            "flex_flow": null,
            "width": null,
            "min_width": null,
            "border": null,
            "align_items": null,
            "bottom": null,
            "_model_module": "@jupyter-widgets/base",
            "top": null,
            "grid_column": null,
            "overflow_y": null,
            "overflow_x": null,
            "grid_auto_flow": null,
            "grid_area": null,
            "grid_template_columns": null,
            "flex": null,
            "_model_name": "LayoutModel",
            "justify_items": null,
            "grid_row": null,
            "max_height": null,
            "align_content": null,
            "visibility": null,
            "align_self": null,
            "height": null,
            "min_height": null,
            "padding": null,
            "grid_auto_rows": null,
            "grid_gap": null,
            "max_width": null,
            "order": null,
            "_view_module_version": "1.2.0",
            "grid_template_areas": null,
            "object_position": null,
            "object_fit": null,
            "grid_auto_columns": null,
            "margin": null,
            "display": null,
            "left": null
          }
        },
        "350a6469a4bb4d35aeb14dc47ade0bf2": {
          "model_module": "@jupyter-widgets/controls",
          "model_name": "DescriptionStyleModel",
          "state": {
            "_view_name": "StyleView",
            "_model_name": "DescriptionStyleModel",
            "description_width": "",
            "_view_module": "@jupyter-widgets/base",
            "_model_module_version": "1.5.0",
            "_view_count": null,
            "_view_module_version": "1.2.0",
            "_model_module": "@jupyter-widgets/controls"
          }
        },
        "c55dafe417ae4840aa8f1e0d63a664ff": {
          "model_module": "@jupyter-widgets/base",
          "model_name": "LayoutModel",
          "state": {
            "_view_name": "LayoutView",
            "grid_template_rows": null,
            "right": null,
            "justify_content": null,
            "_view_module": "@jupyter-widgets/base",
            "overflow": null,
            "_model_module_version": "1.2.0",
            "_view_count": null,
            "flex_flow": null,
            "width": null,
            "min_width": null,
            "border": null,
            "align_items": null,
            "bottom": null,
            "_model_module": "@jupyter-widgets/base",
            "top": null,
            "grid_column": null,
            "overflow_y": null,
            "overflow_x": null,
            "grid_auto_flow": null,
            "grid_area": null,
            "grid_template_columns": null,
            "flex": null,
            "_model_name": "LayoutModel",
            "justify_items": null,
            "grid_row": null,
            "max_height": null,
            "align_content": null,
            "visibility": null,
            "align_self": null,
            "height": null,
            "min_height": null,
            "padding": null,
            "grid_auto_rows": null,
            "grid_gap": null,
            "max_width": null,
            "order": null,
            "_view_module_version": "1.2.0",
            "grid_template_areas": null,
            "object_position": null,
            "object_fit": null,
            "grid_auto_columns": null,
            "margin": null,
            "display": null,
            "left": null
          }
        },
        "165ec7c22f064b829090305ea5fd3c91": {
          "model_module": "@jupyter-widgets/controls",
          "model_name": "HBoxModel",
          "state": {
            "_view_name": "HBoxView",
            "_dom_classes": [],
            "_model_name": "HBoxModel",
            "_view_module": "@jupyter-widgets/controls",
            "_model_module_version": "1.5.0",
            "_view_count": null,
            "_view_module_version": "1.5.0",
            "box_style": "",
            "layout": "IPY_MODEL_5fafb222759042e39c25c9f94126d14e",
            "_model_module": "@jupyter-widgets/controls",
            "children": [
              "IPY_MODEL_ad7897d9a26041b785c8c97d465a033e",
              "IPY_MODEL_2b23ed81187e46e58e82dc8386378509"
            ]
          }
        },
        "5fafb222759042e39c25c9f94126d14e": {
          "model_module": "@jupyter-widgets/base",
          "model_name": "LayoutModel",
          "state": {
            "_view_name": "LayoutView",
            "grid_template_rows": null,
            "right": null,
            "justify_content": null,
            "_view_module": "@jupyter-widgets/base",
            "overflow": null,
            "_model_module_version": "1.2.0",
            "_view_count": null,
            "flex_flow": null,
            "width": null,
            "min_width": null,
            "border": null,
            "align_items": null,
            "bottom": null,
            "_model_module": "@jupyter-widgets/base",
            "top": null,
            "grid_column": null,
            "overflow_y": null,
            "overflow_x": null,
            "grid_auto_flow": null,
            "grid_area": null,
            "grid_template_columns": null,
            "flex": null,
            "_model_name": "LayoutModel",
            "justify_items": null,
            "grid_row": null,
            "max_height": null,
            "align_content": null,
            "visibility": null,
            "align_self": null,
            "height": null,
            "min_height": null,
            "padding": null,
            "grid_auto_rows": null,
            "grid_gap": null,
            "max_width": null,
            "order": null,
            "_view_module_version": "1.2.0",
            "grid_template_areas": null,
            "object_position": null,
            "object_fit": null,
            "grid_auto_columns": null,
            "margin": null,
            "display": null,
            "left": null
          }
        },
        "ad7897d9a26041b785c8c97d465a033e": {
          "model_module": "@jupyter-widgets/controls",
          "model_name": "FloatProgressModel",
          "state": {
            "_view_name": "ProgressView",
            "style": "IPY_MODEL_ab3983c0aac44fb1819dbc2c2e8721cc",
            "_dom_classes": [],
            "description": "",
            "_model_name": "FloatProgressModel",
            "bar_style": "info",
            "max": 1,
            "_view_module": "@jupyter-widgets/controls",
            "_model_module_version": "1.5.0",
            "value": 1,
            "_view_count": null,
            "_view_module_version": "1.5.0",
            "orientation": "horizontal",
            "min": 0,
            "description_tooltip": null,
            "_model_module": "@jupyter-widgets/controls",
            "layout": "IPY_MODEL_dffe3900bb1b42bb9fd5921361a1e00f"
          }
        },
        "2b23ed81187e46e58e82dc8386378509": {
          "model_module": "@jupyter-widgets/controls",
          "model_name": "HTMLModel",
          "state": {
            "_view_name": "HTMLView",
            "style": "IPY_MODEL_c4603f72bd1442f29c4a5531288a2702",
            "_dom_classes": [],
            "description": "",
            "_model_name": "HTMLModel",
            "placeholder": "​",
            "_view_module": "@jupyter-widgets/controls",
            "_model_module_version": "1.5.0",
            "value": " 2000/0 [00:00&lt;00:00, 15207.84 examples/s]",
            "_view_count": null,
            "_view_module_version": "1.5.0",
            "description_tooltip": null,
            "_model_module": "@jupyter-widgets/controls",
            "layout": "IPY_MODEL_36391b7fb5b04ea0bbf6a5345bfeb00b"
          }
        },
        "ab3983c0aac44fb1819dbc2c2e8721cc": {
          "model_module": "@jupyter-widgets/controls",
          "model_name": "ProgressStyleModel",
          "state": {
            "_view_name": "StyleView",
            "_model_name": "ProgressStyleModel",
            "description_width": "initial",
            "_view_module": "@jupyter-widgets/base",
            "_model_module_version": "1.5.0",
            "_view_count": null,
            "_view_module_version": "1.2.0",
            "bar_color": null,
            "_model_module": "@jupyter-widgets/controls"
          }
        },
        "dffe3900bb1b42bb9fd5921361a1e00f": {
          "model_module": "@jupyter-widgets/base",
          "model_name": "LayoutModel",
          "state": {
            "_view_name": "LayoutView",
            "grid_template_rows": null,
            "right": null,
            "justify_content": null,
            "_view_module": "@jupyter-widgets/base",
            "overflow": null,
            "_model_module_version": "1.2.0",
            "_view_count": null,
            "flex_flow": null,
            "width": null,
            "min_width": null,
            "border": null,
            "align_items": null,
            "bottom": null,
            "_model_module": "@jupyter-widgets/base",
            "top": null,
            "grid_column": null,
            "overflow_y": null,
            "overflow_x": null,
            "grid_auto_flow": null,
            "grid_area": null,
            "grid_template_columns": null,
            "flex": null,
            "_model_name": "LayoutModel",
            "justify_items": null,
            "grid_row": null,
            "max_height": null,
            "align_content": null,
            "visibility": null,
            "align_self": null,
            "height": null,
            "min_height": null,
            "padding": null,
            "grid_auto_rows": null,
            "grid_gap": null,
            "max_width": null,
            "order": null,
            "_view_module_version": "1.2.0",
            "grid_template_areas": null,
            "object_position": null,
            "object_fit": null,
            "grid_auto_columns": null,
            "margin": null,
            "display": null,
            "left": null
          }
        },
        "c4603f72bd1442f29c4a5531288a2702": {
          "model_module": "@jupyter-widgets/controls",
          "model_name": "DescriptionStyleModel",
          "state": {
            "_view_name": "StyleView",
            "_model_name": "DescriptionStyleModel",
            "description_width": "",
            "_view_module": "@jupyter-widgets/base",
            "_model_module_version": "1.5.0",
            "_view_count": null,
            "_view_module_version": "1.2.0",
            "_model_module": "@jupyter-widgets/controls"
          }
        },
        "36391b7fb5b04ea0bbf6a5345bfeb00b": {
          "model_module": "@jupyter-widgets/base",
          "model_name": "LayoutModel",
          "state": {
            "_view_name": "LayoutView",
            "grid_template_rows": null,
            "right": null,
            "justify_content": null,
            "_view_module": "@jupyter-widgets/base",
            "overflow": null,
            "_model_module_version": "1.2.0",
            "_view_count": null,
            "flex_flow": null,
            "width": null,
            "min_width": null,
            "border": null,
            "align_items": null,
            "bottom": null,
            "_model_module": "@jupyter-widgets/base",
            "top": null,
            "grid_column": null,
            "overflow_y": null,
            "overflow_x": null,
            "grid_auto_flow": null,
            "grid_area": null,
            "grid_template_columns": null,
            "flex": null,
            "_model_name": "LayoutModel",
            "justify_items": null,
            "grid_row": null,
            "max_height": null,
            "align_content": null,
            "visibility": null,
            "align_self": null,
            "height": null,
            "min_height": null,
            "padding": null,
            "grid_auto_rows": null,
            "grid_gap": null,
            "max_width": null,
            "order": null,
            "_view_module_version": "1.2.0",
            "grid_template_areas": null,
            "object_position": null,
            "object_fit": null,
            "grid_auto_columns": null,
            "margin": null,
            "display": null,
            "left": null
          }
        }
      }
    }
  },
  "cells": [
    {
      "cell_type": "code",
      "metadata": {
        "colab": {
          "base_uri": "https://localhost:8080/"
        },
        "id": "-DTQ0SGMoEuR",
        "outputId": "2e543765-30ba-47a8-8d37-6140b7e745b7"
      },
      "source": [
        "!pip install nlp"
      ],
      "execution_count": 2,
      "outputs": [
        {
          "output_type": "stream",
          "text": [
            "Collecting nlp\n",
            "\u001b[?25l  Downloading https://files.pythonhosted.org/packages/09/e3/bcdc59f3434b224040c1047769c47b82705feca2b89ebbc28311e3764782/nlp-0.4.0-py3-none-any.whl (1.7MB)\n",
            "\r\u001b[K     |▏                               | 10kB 9.6MB/s eta 0:00:01\r\u001b[K     |▍                               | 20kB 16.1MB/s eta 0:00:01\r\u001b[K     |▋                               | 30kB 21.1MB/s eta 0:00:01\r\u001b[K     |▉                               | 40kB 13.6MB/s eta 0:00:01\r\u001b[K     |█                               | 51kB 14.8MB/s eta 0:00:01\r\u001b[K     |█▏                              | 61kB 16.8MB/s eta 0:00:01\r\u001b[K     |█▍                              | 71kB 10.4MB/s eta 0:00:01\r\u001b[K     |█▋                              | 81kB 11.1MB/s eta 0:00:01\r\u001b[K     |█▉                              | 92kB 11.0MB/s eta 0:00:01\r\u001b[K     |██                              | 102kB 10.8MB/s eta 0:00:01\r\u001b[K     |██▏                             | 112kB 10.8MB/s eta 0:00:01\r\u001b[K     |██▍                             | 122kB 10.8MB/s eta 0:00:01\r\u001b[K     |██▋                             | 133kB 10.8MB/s eta 0:00:01\r\u001b[K     |██▊                             | 143kB 10.8MB/s eta 0:00:01\r\u001b[K     |███                             | 153kB 10.8MB/s eta 0:00:01\r\u001b[K     |███▏                            | 163kB 10.8MB/s eta 0:00:01\r\u001b[K     |███▍                            | 174kB 10.8MB/s eta 0:00:01\r\u001b[K     |███▋                            | 184kB 10.8MB/s eta 0:00:01\r\u001b[K     |███▊                            | 194kB 10.8MB/s eta 0:00:01\r\u001b[K     |████                            | 204kB 10.8MB/s eta 0:00:01\r\u001b[K     |████▏                           | 215kB 10.8MB/s eta 0:00:01\r\u001b[K     |████▍                           | 225kB 10.8MB/s eta 0:00:01\r\u001b[K     |████▌                           | 235kB 10.8MB/s eta 0:00:01\r\u001b[K     |████▊                           | 245kB 10.8MB/s eta 0:00:01\r\u001b[K     |█████                           | 256kB 10.8MB/s eta 0:00:01\r\u001b[K     |█████▏                          | 266kB 10.8MB/s eta 0:00:01\r\u001b[K     |█████▍                          | 276kB 10.8MB/s eta 0:00:01\r\u001b[K     |█████▌                          | 286kB 10.8MB/s eta 0:00:01\r\u001b[K     |█████▊                          | 296kB 10.8MB/s eta 0:00:01\r\u001b[K     |██████                          | 307kB 10.8MB/s eta 0:00:01\r\u001b[K     |██████▏                         | 317kB 10.8MB/s eta 0:00:01\r\u001b[K     |██████▎                         | 327kB 10.8MB/s eta 0:00:01\r\u001b[K     |██████▌                         | 337kB 10.8MB/s eta 0:00:01\r\u001b[K     |██████▊                         | 348kB 10.8MB/s eta 0:00:01\r\u001b[K     |███████                         | 358kB 10.8MB/s eta 0:00:01\r\u001b[K     |███████▏                        | 368kB 10.8MB/s eta 0:00:01\r\u001b[K     |███████▎                        | 378kB 10.8MB/s eta 0:00:01\r\u001b[K     |███████▌                        | 389kB 10.8MB/s eta 0:00:01\r\u001b[K     |███████▊                        | 399kB 10.8MB/s eta 0:00:01\r\u001b[K     |████████                        | 409kB 10.8MB/s eta 0:00:01\r\u001b[K     |████████                        | 419kB 10.8MB/s eta 0:00:01\r\u001b[K     |████████▎                       | 430kB 10.8MB/s eta 0:00:01\r\u001b[K     |████████▌                       | 440kB 10.8MB/s eta 0:00:01\r\u001b[K     |████████▊                       | 450kB 10.8MB/s eta 0:00:01\r\u001b[K     |█████████                       | 460kB 10.8MB/s eta 0:00:01\r\u001b[K     |█████████                       | 471kB 10.8MB/s eta 0:00:01\r\u001b[K     |█████████▎                      | 481kB 10.8MB/s eta 0:00:01\r\u001b[K     |█████████▌                      | 491kB 10.8MB/s eta 0:00:01\r\u001b[K     |█████████▊                      | 501kB 10.8MB/s eta 0:00:01\r\u001b[K     |█████████▉                      | 512kB 10.8MB/s eta 0:00:01\r\u001b[K     |██████████                      | 522kB 10.8MB/s eta 0:00:01\r\u001b[K     |██████████▎                     | 532kB 10.8MB/s eta 0:00:01\r\u001b[K     |██████████▌                     | 542kB 10.8MB/s eta 0:00:01\r\u001b[K     |██████████▊                     | 552kB 10.8MB/s eta 0:00:01\r\u001b[K     |██████████▉                     | 563kB 10.8MB/s eta 0:00:01\r\u001b[K     |███████████                     | 573kB 10.8MB/s eta 0:00:01\r\u001b[K     |███████████▎                    | 583kB 10.8MB/s eta 0:00:01\r\u001b[K     |███████████▌                    | 593kB 10.8MB/s eta 0:00:01\r\u001b[K     |███████████▋                    | 604kB 10.8MB/s eta 0:00:01\r\u001b[K     |███████████▉                    | 614kB 10.8MB/s eta 0:00:01\r\u001b[K     |████████████                    | 624kB 10.8MB/s eta 0:00:01\r\u001b[K     |████████████▎                   | 634kB 10.8MB/s eta 0:00:01\r\u001b[K     |████████████▌                   | 645kB 10.8MB/s eta 0:00:01\r\u001b[K     |████████████▋                   | 655kB 10.8MB/s eta 0:00:01\r\u001b[K     |████████████▉                   | 665kB 10.8MB/s eta 0:00:01\r\u001b[K     |█████████████                   | 675kB 10.8MB/s eta 0:00:01\r\u001b[K     |█████████████▎                  | 686kB 10.8MB/s eta 0:00:01\r\u001b[K     |█████████████▍                  | 696kB 10.8MB/s eta 0:00:01\r\u001b[K     |█████████████▋                  | 706kB 10.8MB/s eta 0:00:01\r\u001b[K     |█████████████▉                  | 716kB 10.8MB/s eta 0:00:01\r\u001b[K     |██████████████                  | 727kB 10.8MB/s eta 0:00:01\r\u001b[K     |██████████████▎                 | 737kB 10.8MB/s eta 0:00:01\r\u001b[K     |██████████████▍                 | 747kB 10.8MB/s eta 0:00:01\r\u001b[K     |██████████████▋                 | 757kB 10.8MB/s eta 0:00:01\r\u001b[K     |██████████████▉                 | 768kB 10.8MB/s eta 0:00:01\r\u001b[K     |███████████████                 | 778kB 10.8MB/s eta 0:00:01\r\u001b[K     |███████████████▏                | 788kB 10.8MB/s eta 0:00:01\r\u001b[K     |███████████████▍                | 798kB 10.8MB/s eta 0:00:01\r\u001b[K     |███████████████▋                | 808kB 10.8MB/s eta 0:00:01\r\u001b[K     |███████████████▉                | 819kB 10.8MB/s eta 0:00:01\r\u001b[K     |████████████████                | 829kB 10.8MB/s eta 0:00:01\r\u001b[K     |████████████████▏               | 839kB 10.8MB/s eta 0:00:01\r\u001b[K     |████████████████▍               | 849kB 10.8MB/s eta 0:00:01\r\u001b[K     |████████████████▋               | 860kB 10.8MB/s eta 0:00:01\r\u001b[K     |████████████████▉               | 870kB 10.8MB/s eta 0:00:01\r\u001b[K     |█████████████████               | 880kB 10.8MB/s eta 0:00:01\r\u001b[K     |█████████████████▏              | 890kB 10.8MB/s eta 0:00:01\r\u001b[K     |█████████████████▍              | 901kB 10.8MB/s eta 0:00:01\r\u001b[K     |█████████████████▋              | 911kB 10.8MB/s eta 0:00:01\r\u001b[K     |█████████████████▉              | 921kB 10.8MB/s eta 0:00:01\r\u001b[K     |██████████████████              | 931kB 10.8MB/s eta 0:00:01\r\u001b[K     |██████████████████▏             | 942kB 10.8MB/s eta 0:00:01\r\u001b[K     |██████████████████▍             | 952kB 10.8MB/s eta 0:00:01\r\u001b[K     |██████████████████▋             | 962kB 10.8MB/s eta 0:00:01\r\u001b[K     |██████████████████▊             | 972kB 10.8MB/s eta 0:00:01\r\u001b[K     |███████████████████             | 983kB 10.8MB/s eta 0:00:01\r\u001b[K     |███████████████████▏            | 993kB 10.8MB/s eta 0:00:01\r\u001b[K     |███████████████████▍            | 1.0MB 10.8MB/s eta 0:00:01\r\u001b[K     |███████████████████▋            | 1.0MB 10.8MB/s eta 0:00:01\r\u001b[K     |███████████████████▊            | 1.0MB 10.8MB/s eta 0:00:01\r\u001b[K     |████████████████████            | 1.0MB 10.8MB/s eta 0:00:01\r\u001b[K     |████████████████████▏           | 1.0MB 10.8MB/s eta 0:00:01\r\u001b[K     |████████████████████▍           | 1.1MB 10.8MB/s eta 0:00:01\r\u001b[K     |████████████████████▌           | 1.1MB 10.8MB/s eta 0:00:01\r\u001b[K     |████████████████████▊           | 1.1MB 10.8MB/s eta 0:00:01\r\u001b[K     |█████████████████████           | 1.1MB 10.8MB/s eta 0:00:01\r\u001b[K     |█████████████████████▏          | 1.1MB 10.8MB/s eta 0:00:01\r\u001b[K     |█████████████████████▍          | 1.1MB 10.8MB/s eta 0:00:01\r\u001b[K     |█████████████████████▌          | 1.1MB 10.8MB/s eta 0:00:01\r\u001b[K     |█████████████████████▊          | 1.1MB 10.8MB/s eta 0:00:01\r\u001b[K     |██████████████████████          | 1.1MB 10.8MB/s eta 0:00:01\r\u001b[K     |██████████████████████▏         | 1.1MB 10.8MB/s eta 0:00:01\r\u001b[K     |██████████████████████▎         | 1.2MB 10.8MB/s eta 0:00:01\r\u001b[K     |██████████████████████▌         | 1.2MB 10.8MB/s eta 0:00:01\r\u001b[K     |██████████████████████▊         | 1.2MB 10.8MB/s eta 0:00:01\r\u001b[K     |███████████████████████         | 1.2MB 10.8MB/s eta 0:00:01\r\u001b[K     |███████████████████████▏        | 1.2MB 10.8MB/s eta 0:00:01\r\u001b[K     |███████████████████████▎        | 1.2MB 10.8MB/s eta 0:00:01\r\u001b[K     |███████████████████████▌        | 1.2MB 10.8MB/s eta 0:00:01\r\u001b[K     |███████████████████████▊        | 1.2MB 10.8MB/s eta 0:00:01\r\u001b[K     |████████████████████████        | 1.2MB 10.8MB/s eta 0:00:01\r\u001b[K     |████████████████████████        | 1.2MB 10.8MB/s eta 0:00:01\r\u001b[K     |████████████████████████▎       | 1.3MB 10.8MB/s eta 0:00:01\r\u001b[K     |████████████████████████▌       | 1.3MB 10.8MB/s eta 0:00:01\r\u001b[K     |████████████████████████▊       | 1.3MB 10.8MB/s eta 0:00:01\r\u001b[K     |█████████████████████████       | 1.3MB 10.8MB/s eta 0:00:01\r\u001b[K     |█████████████████████████       | 1.3MB 10.8MB/s eta 0:00:01\r\u001b[K     |█████████████████████████▎      | 1.3MB 10.8MB/s eta 0:00:01\r\u001b[K     |█████████████████████████▌      | 1.3MB 10.8MB/s eta 0:00:01\r\u001b[K     |█████████████████████████▊      | 1.3MB 10.8MB/s eta 0:00:01\r\u001b[K     |█████████████████████████▉      | 1.3MB 10.8MB/s eta 0:00:01\r\u001b[K     |██████████████████████████      | 1.4MB 10.8MB/s eta 0:00:01\r\u001b[K     |██████████████████████████▎     | 1.4MB 10.8MB/s eta 0:00:01\r\u001b[K     |██████████████████████████▌     | 1.4MB 10.8MB/s eta 0:00:01\r\u001b[K     |██████████████████████████▊     | 1.4MB 10.8MB/s eta 0:00:01\r\u001b[K     |██████████████████████████▉     | 1.4MB 10.8MB/s eta 0:00:01\r\u001b[K     |███████████████████████████     | 1.4MB 10.8MB/s eta 0:00:01\r\u001b[K     |███████████████████████████▎    | 1.4MB 10.8MB/s eta 0:00:01\r\u001b[K     |███████████████████████████▌    | 1.4MB 10.8MB/s eta 0:00:01\r\u001b[K     |███████████████████████████▋    | 1.4MB 10.8MB/s eta 0:00:01\r\u001b[K     |███████████████████████████▉    | 1.4MB 10.8MB/s eta 0:00:01\r\u001b[K     |████████████████████████████    | 1.5MB 10.8MB/s eta 0:00:01\r\u001b[K     |████████████████████████████▎   | 1.5MB 10.8MB/s eta 0:00:01\r\u001b[K     |████████████████████████████▌   | 1.5MB 10.8MB/s eta 0:00:01\r\u001b[K     |████████████████████████████▋   | 1.5MB 10.8MB/s eta 0:00:01\r\u001b[K     |████████████████████████████▉   | 1.5MB 10.8MB/s eta 0:00:01\r\u001b[K     |█████████████████████████████   | 1.5MB 10.8MB/s eta 0:00:01\r\u001b[K     |█████████████████████████████▎  | 1.5MB 10.8MB/s eta 0:00:01\r\u001b[K     |█████████████████████████████▍  | 1.5MB 10.8MB/s eta 0:00:01\r\u001b[K     |█████████████████████████████▋  | 1.5MB 10.8MB/s eta 0:00:01\r\u001b[K     |█████████████████████████████▉  | 1.5MB 10.8MB/s eta 0:00:01\r\u001b[K     |██████████████████████████████  | 1.6MB 10.8MB/s eta 0:00:01\r\u001b[K     |██████████████████████████████▎ | 1.6MB 10.8MB/s eta 0:00:01\r\u001b[K     |██████████████████████████████▍ | 1.6MB 10.8MB/s eta 0:00:01\r\u001b[K     |██████████████████████████████▋ | 1.6MB 10.8MB/s eta 0:00:01\r\u001b[K     |██████████████████████████████▉ | 1.6MB 10.8MB/s eta 0:00:01\r\u001b[K     |███████████████████████████████ | 1.6MB 10.8MB/s eta 0:00:01\r\u001b[K     |███████████████████████████████▏| 1.6MB 10.8MB/s eta 0:00:01\r\u001b[K     |███████████████████████████████▍| 1.6MB 10.8MB/s eta 0:00:01\r\u001b[K     |███████████████████████████████▋| 1.6MB 10.8MB/s eta 0:00:01\r\u001b[K     |███████████████████████████████▉| 1.6MB 10.8MB/s eta 0:00:01\r\u001b[K     |████████████████████████████████| 1.7MB 10.8MB/s \n",
            "\u001b[?25hRequirement already satisfied: dill in /usr/local/lib/python3.7/dist-packages (from nlp) (0.3.3)\n",
            "Requirement already satisfied: tqdm>=4.27 in /usr/local/lib/python3.7/dist-packages (from nlp) (4.41.1)\n",
            "Requirement already satisfied: requests>=2.19.0 in /usr/local/lib/python3.7/dist-packages (from nlp) (2.23.0)\n",
            "Requirement already satisfied: pandas in /usr/local/lib/python3.7/dist-packages (from nlp) (1.1.5)\n",
            "Collecting xxhash\n",
            "\u001b[?25l  Downloading https://files.pythonhosted.org/packages/e7/27/1c0b37c53a7852f1c190ba5039404d27b3ae96a55f48203a74259f8213c9/xxhash-2.0.0-cp37-cp37m-manylinux2010_x86_64.whl (243kB)\n",
            "\u001b[K     |████████████████████████████████| 245kB 54.8MB/s \n",
            "\u001b[?25hRequirement already satisfied: pyarrow>=0.16.0 in /usr/local/lib/python3.7/dist-packages (from nlp) (3.0.0)\n",
            "Requirement already satisfied: filelock in /usr/local/lib/python3.7/dist-packages (from nlp) (3.0.12)\n",
            "Requirement already satisfied: numpy in /usr/local/lib/python3.7/dist-packages (from nlp) (1.19.5)\n",
            "Requirement already satisfied: urllib3!=1.25.0,!=1.25.1,<1.26,>=1.21.1 in /usr/local/lib/python3.7/dist-packages (from requests>=2.19.0->nlp) (1.24.3)\n",
            "Requirement already satisfied: certifi>=2017.4.17 in /usr/local/lib/python3.7/dist-packages (from requests>=2.19.0->nlp) (2020.12.5)\n",
            "Requirement already satisfied: idna<3,>=2.5 in /usr/local/lib/python3.7/dist-packages (from requests>=2.19.0->nlp) (2.10)\n",
            "Requirement already satisfied: chardet<4,>=3.0.2 in /usr/local/lib/python3.7/dist-packages (from requests>=2.19.0->nlp) (3.0.4)\n",
            "Requirement already satisfied: pytz>=2017.2 in /usr/local/lib/python3.7/dist-packages (from pandas->nlp) (2018.9)\n",
            "Requirement already satisfied: python-dateutil>=2.7.3 in /usr/local/lib/python3.7/dist-packages (from pandas->nlp) (2.8.1)\n",
            "Requirement already satisfied: six>=1.5 in /usr/local/lib/python3.7/dist-packages (from python-dateutil>=2.7.3->pandas->nlp) (1.15.0)\n",
            "Installing collected packages: xxhash, nlp\n",
            "Successfully installed nlp-0.4.0 xxhash-2.0.0\n"
          ],
          "name": "stdout"
        }
      ]
    },
    {
      "cell_type": "code",
      "metadata": {
        "colab": {
          "base_uri": "https://localhost:8080/"
        },
        "id": "pVhQSZwGoKZ3",
        "outputId": "8137074e-bab0-4322-8f4e-e03c035a157a"
      },
      "source": [
        "%matplotlib inline\n",
        "\n",
        "import tensorflow as tf\n",
        "import numpy as np\n",
        "import matplotlib.pyplot as plt\n",
        "import nlp\n",
        "import random\n",
        "\n",
        "\n",
        "def show_history(h):\n",
        "    epochs_trained = len(h.history['loss'])\n",
        "    plt.figure(figsize=(16, 6))\n",
        "\n",
        "    plt.subplot(1, 2, 1)\n",
        "    plt.plot(range(0, epochs_trained), h.history.get('accuracy'), label='Training')\n",
        "    plt.plot(range(0, epochs_trained), h.history.get('val_accuracy'), label='Validation')\n",
        "    plt.ylim([0., 1.])\n",
        "    plt.xlabel('Epochs')\n",
        "    plt.ylabel('Accuracy')\n",
        "    plt.legend()\n",
        "\n",
        "    plt.subplot(1, 2, 2)\n",
        "    plt.plot(range(0, epochs_trained), h.history.get('loss'), label='Training')\n",
        "    plt.plot(range(0, epochs_trained), h.history.get('val_loss'), label='Validation')\n",
        "    plt.xlabel('Epochs')\n",
        "    plt.ylabel('Loss')\n",
        "    plt.legend()\n",
        "    plt.show()\n",
        "\n",
        "    \n",
        "def show_confusion_matrix(y_true, y_pred, classes):\n",
        "    from sklearn.metrics import confusion_matrix\n",
        "    \n",
        "    cm = confusion_matrix(y_true, y_pred, normalize='true')\n",
        "\n",
        "    plt.figure(figsize=(8, 8))\n",
        "    sp = plt.subplot(1, 1, 1)\n",
        "    ctx = sp.matshow(cm)\n",
        "    plt.xticks(list(range(0, 6)), labels=classes)\n",
        "    plt.yticks(list(range(0, 6)), labels=classes)\n",
        "    plt.colorbar(ctx)\n",
        "    plt.show()\n",
        "\n",
        "    \n",
        "print('Using TensorFlow version', tf.__version__)"
      ],
      "execution_count": 16,
      "outputs": [
        {
          "output_type": "stream",
          "text": [
            "Using TensorFlow version 2.4.1\n"
          ],
          "name": "stdout"
        }
      ]
    },
    {
      "cell_type": "code",
      "metadata": {
        "colab": {
          "base_uri": "https://localhost:8080/",
          "height": 350,
          "referenced_widgets": [
            "7dc089a158f543af8e891509740fdf49",
            "12ee1a53521d4bba9899aa90d23211e0",
            "ae9b653de7954f57b1da4c4cf421d17f",
            "a2802df0b92b4a769c6347126c9fb79d",
            "b32fa2d583fe45099a57adaa87cb92d3",
            "3e8da7dc33c04c02ad13593f03209bbb",
            "0866af7573c9461a9d67672c6a99288e",
            "0e14747aacc54f8da78c85b9385cf08d",
            "64ed202afc4047afba752156143496c2",
            "8e88066b57ea46f88a83c5211a53292c",
            "d13beec73ae94588b3834259daa2735e",
            "3e80d0230c404e4fb4bceb3232c3d630",
            "b7141aebb5a8427993d3daf60ada8cf6",
            "a27e9ff2830d4635853976f513833e0e",
            "0fedb67bc73747ac8935f016aa37ef71",
            "d90e8dd78f1844ec94ed907d2ba61a13",
            "18a49cc4022c4d1085c95f423777f77a",
            "e97ad72a10b540f8a9b64842c26c9ebc",
            "ea52d9aae8214d619e3c10fa0a9738a3",
            "52ab1d0104bd4c488bf8c130c9e6f9b5",
            "496a5cf1058c4674aa13dd32324114dd",
            "6e69585d20bf48cc81e355506bbac0f3",
            "926143dd930e4860a1ea81aebb466241",
            "8a6f45a879d64e15862cfcb863e5dcf5",
            "ee574a16d8c443cbbeba2fadfe5bce03",
            "00ba6234ce674603a694f20b4556acbc",
            "ecad4b4951534b6491f0a2ce1ed0329a",
            "3a78f606f82e420a938e91aa346843d8",
            "d3640762ff2e47e9bbc3b1a93bf7e3dd",
            "6abb1d571bd5489196651e0de8c198d5",
            "85ac8ba09b764dceb528907cdba01a4f",
            "ebc58c96f61f4eec902da9922a6ad862",
            "6eeb69f9972b44119cbcb8b3afb85b7f",
            "a5af22fb5f914b4ca887f681174ba173",
            "43425ac8ae0e4467981ec691367174cc",
            "d59141adbcf843638b0b10d8829c7e41",
            "a7f07ff486b54176a90d8ba0cbd1fa0a",
            "a35af837ce9b4e28bbf0e5439f0543a5",
            "9522e607a5b7446e954a01a3126e9319",
            "0e2d198838794d7aa963760b9bbfc127",
            "0f6ede1aba4f470cae1fe5b7c98b765a",
            "37eec438711c4366a058c88b73d9fe65",
            "e161a3e85812446e8ddb9ea3255620c6",
            "17fd4b381e97408db5d7bf8af865375d",
            "1ed39042effe440b8f514b75faed537b",
            "8dacec3d69d24cf6bf3aa567c03a93d1",
            "c768a70666994683abd8335cfab04f6b",
            "5ee35ddbc9ca4db2a4c3fa2140539033",
            "5f6628daaa0e4eee89354992e35af16a",
            "3752a82505824bbbaba64e404d9fbe69",
            "18dd2dfe198a4b6c87db9e3cdcd8654d",
            "22907fc8b32f467680d440dd82202eda",
            "ccd8b537e4d54a6d8f85a1ab933da3ea",
            "c66f54e3bbbe4e4fbe85739abfe72ecc",
            "350a6469a4bb4d35aeb14dc47ade0bf2",
            "c55dafe417ae4840aa8f1e0d63a664ff",
            "165ec7c22f064b829090305ea5fd3c91",
            "5fafb222759042e39c25c9f94126d14e",
            "ad7897d9a26041b785c8c97d465a033e",
            "2b23ed81187e46e58e82dc8386378509",
            "ab3983c0aac44fb1819dbc2c2e8721cc",
            "dffe3900bb1b42bb9fd5921361a1e00f",
            "c4603f72bd1442f29c4a5531288a2702",
            "36391b7fb5b04ea0bbf6a5345bfeb00b"
          ]
        },
        "id": "XVcZp03YoYvz",
        "outputId": "a998a3fe-afa8-48a5-aff7-65b4310aa233"
      },
      "source": [
        "dataset = nlp.load_dataset('emotion')"
      ],
      "execution_count": 4,
      "outputs": [
        {
          "output_type": "display_data",
          "data": {
            "application/vnd.jupyter.widget-view+json": {
              "model_id": "7dc089a158f543af8e891509740fdf49",
              "version_minor": 0,
              "version_major": 2
            },
            "text/plain": [
              "HBox(children=(FloatProgress(value=0.0, description='Downloading', max=3406.0, style=ProgressStyle(description…"
            ]
          },
          "metadata": {
            "tags": []
          }
        },
        {
          "output_type": "stream",
          "text": [
            "\n"
          ],
          "name": "stdout"
        },
        {
          "output_type": "display_data",
          "data": {
            "application/vnd.jupyter.widget-view+json": {
              "model_id": "64ed202afc4047afba752156143496c2",
              "version_minor": 0,
              "version_major": 2
            },
            "text/plain": [
              "HBox(children=(FloatProgress(value=0.0, description='Downloading', max=6011.0, style=ProgressStyle(description…"
            ]
          },
          "metadata": {
            "tags": []
          }
        },
        {
          "output_type": "stream",
          "text": [
            "Using custom data configuration default\n"
          ],
          "name": "stderr"
        },
        {
          "output_type": "stream",
          "text": [
            "\n",
            "Downloading and preparing dataset emotion/default (download: 1.97 MiB, generated: 2.09 MiB, post-processed: Unknown sizetotal: 4.06 MiB) to /root/.cache/huggingface/datasets/emotion/default/0.0.0/84e07cd366f4451464584cdbd4958f512bcaddb1e921341e07298ce8a9ce42f4...\n"
          ],
          "name": "stdout"
        },
        {
          "output_type": "display_data",
          "data": {
            "application/vnd.jupyter.widget-view+json": {
              "model_id": "18a49cc4022c4d1085c95f423777f77a",
              "version_minor": 0,
              "version_major": 2
            },
            "text/plain": [
              "HBox(children=(FloatProgress(value=0.0, description='Downloading', max=1658616.0, style=ProgressStyle(descript…"
            ]
          },
          "metadata": {
            "tags": []
          }
        },
        {
          "output_type": "stream",
          "text": [
            "\n"
          ],
          "name": "stdout"
        },
        {
          "output_type": "display_data",
          "data": {
            "application/vnd.jupyter.widget-view+json": {
              "model_id": "ee574a16d8c443cbbeba2fadfe5bce03",
              "version_minor": 0,
              "version_major": 2
            },
            "text/plain": [
              "HBox(children=(FloatProgress(value=0.0, description='Downloading', max=204240.0, style=ProgressStyle(descripti…"
            ]
          },
          "metadata": {
            "tags": []
          }
        },
        {
          "output_type": "stream",
          "text": [
            "\n"
          ],
          "name": "stdout"
        },
        {
          "output_type": "display_data",
          "data": {
            "application/vnd.jupyter.widget-view+json": {
              "model_id": "6eeb69f9972b44119cbcb8b3afb85b7f",
              "version_minor": 0,
              "version_major": 2
            },
            "text/plain": [
              "HBox(children=(FloatProgress(value=0.0, description='Downloading', max=206760.0, style=ProgressStyle(descripti…"
            ]
          },
          "metadata": {
            "tags": []
          }
        },
        {
          "output_type": "stream",
          "text": [
            "\n"
          ],
          "name": "stdout"
        },
        {
          "output_type": "display_data",
          "data": {
            "application/vnd.jupyter.widget-view+json": {
              "model_id": "0f6ede1aba4f470cae1fe5b7c98b765a",
              "version_minor": 0,
              "version_major": 2
            },
            "text/plain": [
              "HBox(children=(FloatProgress(value=1.0, bar_style='info', max=1.0), HTML(value='')))"
            ]
          },
          "metadata": {
            "tags": []
          }
        },
        {
          "output_type": "stream",
          "text": [
            "\r"
          ],
          "name": "stdout"
        },
        {
          "output_type": "display_data",
          "data": {
            "application/vnd.jupyter.widget-view+json": {
              "model_id": "5f6628daaa0e4eee89354992e35af16a",
              "version_minor": 0,
              "version_major": 2
            },
            "text/plain": [
              "HBox(children=(FloatProgress(value=1.0, bar_style='info', max=1.0), HTML(value='')))"
            ]
          },
          "metadata": {
            "tags": []
          }
        },
        {
          "output_type": "stream",
          "text": [
            "\r"
          ],
          "name": "stdout"
        },
        {
          "output_type": "display_data",
          "data": {
            "application/vnd.jupyter.widget-view+json": {
              "model_id": "165ec7c22f064b829090305ea5fd3c91",
              "version_minor": 0,
              "version_major": 2
            },
            "text/plain": [
              "HBox(children=(FloatProgress(value=1.0, bar_style='info', max=1.0), HTML(value='')))"
            ]
          },
          "metadata": {
            "tags": []
          }
        },
        {
          "output_type": "stream",
          "text": [
            "\rDataset emotion downloaded and prepared to /root/.cache/huggingface/datasets/emotion/default/0.0.0/84e07cd366f4451464584cdbd4958f512bcaddb1e921341e07298ce8a9ce42f4. Subsequent calls will reuse this data.\n"
          ],
          "name": "stdout"
        }
      ]
    },
    {
      "cell_type": "code",
      "metadata": {
        "id": "M-vODzgMoq8v"
      },
      "source": [
        "train = dataset['train']\n",
        "val = dataset['validation']\n",
        "test = dataset['test']"
      ],
      "execution_count": 5,
      "outputs": []
    },
    {
      "cell_type": "code",
      "metadata": {
        "id": "EgOTxJWxpDit"
      },
      "source": [
        "def get_tweet(data):\n",
        "  tweets = [x['text'] for x in data]\n",
        "  labels = [x['label'] for x in data]\n",
        "  return tweets, labels"
      ],
      "execution_count": 6,
      "outputs": []
    },
    {
      "cell_type": "code",
      "metadata": {
        "id": "0_moLb55pV8n"
      },
      "source": [
        "tweets, labels = get_tweet(train)"
      ],
      "execution_count": 7,
      "outputs": []
    },
    {
      "cell_type": "code",
      "metadata": {
        "colab": {
          "base_uri": "https://localhost:8080/"
        },
        "id": "iOJrf0gOpgvx",
        "outputId": "58148c14-3e29-4b49-dc52-e518bd527ef7"
      },
      "source": [
        "tweets[0], labels[0]"
      ],
      "execution_count": 8,
      "outputs": [
        {
          "output_type": "execute_result",
          "data": {
            "text/plain": [
              "('i didnt feel humiliated', 'sadness')"
            ]
          },
          "metadata": {
            "tags": []
          },
          "execution_count": 8
        }
      ]
    },
    {
      "cell_type": "code",
      "metadata": {
        "id": "Mplf-KpuqOAX"
      },
      "source": [
        "from tensorflow.keras.preprocessing.text import Tokenizer"
      ],
      "execution_count": 9,
      "outputs": []
    },
    {
      "cell_type": "code",
      "metadata": {
        "id": "p8O8jpxoq8s8"
      },
      "source": [
        "tokenizer = Tokenizer(num_words=10000, oov_token='<UNK>')\n",
        "tokenizer.fit_on_texts(tweets)"
      ],
      "execution_count": 10,
      "outputs": []
    },
    {
      "cell_type": "code",
      "metadata": {
        "colab": {
          "base_uri": "https://localhost:8080/",
          "height": 36
        },
        "id": "0aRZ0aRuruBV",
        "outputId": "ca55d1c1-a289-43a0-902b-0d83dabad0d5"
      },
      "source": [
        "tweets[0]"
      ],
      "execution_count": 12,
      "outputs": [
        {
          "output_type": "execute_result",
          "data": {
            "application/vnd.google.colaboratory.intrinsic+json": {
              "type": "string"
            },
            "text/plain": [
              "'i didnt feel humiliated'"
            ]
          },
          "metadata": {
            "tags": []
          },
          "execution_count": 12
        }
      ]
    },
    {
      "cell_type": "code",
      "metadata": {
        "colab": {
          "base_uri": "https://localhost:8080/"
        },
        "id": "0FMFzFGRrER2",
        "outputId": "8750c38d-2bc4-4c94-d6d0-88702c7956a2"
      },
      "source": [
        "tokenizer.texts_to_sequences([tweets[0]])"
      ],
      "execution_count": 11,
      "outputs": [
        {
          "output_type": "execute_result",
          "data": {
            "text/plain": [
              "[[2, 139, 3, 679]]"
            ]
          },
          "metadata": {
            "tags": []
          },
          "execution_count": 11
        }
      ]
    },
    {
      "cell_type": "code",
      "metadata": {
        "colab": {
          "base_uri": "https://localhost:8080/",
          "height": 284
        },
        "id": "Cdqhya7Cr5qg",
        "outputId": "e762d847-8e27-4ac2-a6cb-6a9685c82c1d"
      },
      "source": [
        "lengths = [len(t.split(' ')) for t in tweets]\n",
        "plt.hist(lengths, bins=len(set(lengths)))\n",
        "plt.show"
      ],
      "execution_count": 120,
      "outputs": [
        {
          "output_type": "execute_result",
          "data": {
            "text/plain": [
              "<function matplotlib.pyplot.show>"
            ]
          },
          "metadata": {
            "tags": []
          },
          "execution_count": 120
        },
        {
          "output_type": "display_data",
          "data": {
            "image/png": "[encoded data removed]",
            "text/plain": [
              "<Figure size 432x288 with 1 Axes>"
            ]
          },
          "metadata": {
            "tags": [],
            "needs_background": "light"
          }
        }
      ]
    },
    {
      "cell_type": "code",
      "metadata": {
        "id": "SCf-LddLFRER"
      },
      "source": [
        "maxlen=50\n",
        "from tensorflow.keras.preprocessing.sequence import pad_sequences"
      ],
      "execution_count": 25,
      "outputs": []
    },
    {
      "cell_type": "code",
      "metadata": {
        "id": "SIQGqEvrFPC8"
      },
      "source": [
        "def get_sequences(tokenizer, tweets):\n",
        "  # making all sequences same length\n",
        "  sequences = tokenizer.texts_to_sequences(tweets)\n",
        "  padded = pad_sequences(sequences, truncating = 'post', padding='post', maxlen=maxlen)\n",
        "  return padded"
      ],
      "execution_count": 70,
      "outputs": []
    },
    {
      "cell_type": "code",
      "metadata": {
        "id": "Pxl7opzoGvlm"
      },
      "source": [
        "padded_train_seq = get_sequences(tokenizer, tweets)"
      ],
      "execution_count": 71,
      "outputs": []
    },
    {
      "cell_type": "code",
      "metadata": {
        "colab": {
          "base_uri": "https://localhost:8080/"
        },
        "id": "1w2pQ0FtHdbr",
        "outputId": "793076c0-3283-44f9-89ba-f4a5739825be"
      },
      "source": [
        "padded_train_seq[0]"
      ],
      "execution_count": 72,
      "outputs": [
        {
          "output_type": "execute_result",
          "data": {
            "text/plain": [
              "array([  2, 139,   3, 679,   0,   0,   0,   0,   0,   0,   0,   0,   0,\n",
              "         0,   0,   0,   0,   0,   0,   0,   0,   0,   0,   0,   0,   0,\n",
              "         0,   0,   0,   0,   0,   0,   0,   0,   0,   0,   0,   0,   0,\n",
              "         0,   0,   0,   0,   0,   0,   0,   0,   0,   0,   0], dtype=int32)"
            ]
          },
          "metadata": {
            "tags": []
          },
          "execution_count": 72
        }
      ]
    },
    {
      "cell_type": "code",
      "metadata": {
        "colab": {
          "base_uri": "https://localhost:8080/"
        },
        "id": "Vq_Z0PIjHhGH",
        "outputId": "f4cf9558-6736-466f-be15-fb1528d7ff4a"
      },
      "source": [
        "classes = set(labels)\n",
        "print(classes)"
      ],
      "execution_count": 73,
      "outputs": [
        {
          "output_type": "stream",
          "text": [
            "{'joy', 'sadness', 'fear', 'surprise', 'love', 'anger'}\n"
          ],
          "name": "stdout"
        }
      ]
    },
    {
      "cell_type": "code",
      "metadata": {
        "id": "fr0ZEwOcICLx"
      },
      "source": [
        "class_to_index = dict((c,i) for i, c in enumerate(classes))\n",
        "index_to_class = dict((v,k) for k, v in class_to_index.items())"
      ],
      "execution_count": 74,
      "outputs": []
    },
    {
      "cell_type": "code",
      "metadata": {
        "colab": {
          "base_uri": "https://localhost:8080/"
        },
        "id": "YQCqSsEDJO90",
        "outputId": "bcfe8327-c489-4e23-ca2e-e923af6e3c9c"
      },
      "source": [
        "class_to_index"
      ],
      "execution_count": 75,
      "outputs": [
        {
          "output_type": "execute_result",
          "data": {
            "text/plain": [
              "{'anger': 5, 'fear': 2, 'joy': 0, 'love': 4, 'sadness': 1, 'surprise': 3}"
            ]
          },
          "metadata": {
            "tags": []
          },
          "execution_count": 75
        }
      ]
    },
    {
      "cell_type": "code",
      "metadata": {
        "colab": {
          "base_uri": "https://localhost:8080/"
        },
        "id": "nYDMNhLfJRPZ",
        "outputId": "36abeb45-9db5-45b1-a46a-becae26de015"
      },
      "source": [
        "index_to_class"
      ],
      "execution_count": 76,
      "outputs": [
        {
          "output_type": "execute_result",
          "data": {
            "text/plain": [
              "{0: 'joy', 1: 'sadness', 2: 'fear', 3: 'surprise', 4: 'love', 5: 'anger'}"
            ]
          },
          "metadata": {
            "tags": []
          },
          "execution_count": 76
        }
      ]
    },
    {
      "cell_type": "code",
      "metadata": {
        "id": "X5GQXeY7JWOP"
      },
      "source": [
        "names_to_ids = lambda labels: np.array([class_to_index.get(x) for x in labels])"
      ],
      "execution_count": 33,
      "outputs": []
    },
    {
      "cell_type": "code",
      "metadata": {
        "colab": {
          "base_uri": "https://localhost:8080/"
        },
        "id": "P0mvmY2HJe-I",
        "outputId": "e6da2e92-88d2-4f54-dad7-cb22efa462e9"
      },
      "source": [
        "train_labels = names_to_ids(labels)\n",
        "train_labels[0]"
      ],
      "execution_count": 34,
      "outputs": [
        {
          "output_type": "execute_result",
          "data": {
            "text/plain": [
              "1"
            ]
          },
          "metadata": {
            "tags": []
          },
          "execution_count": 34
        }
      ]
    },
    {
      "cell_type": "code",
      "metadata": {
        "id": "FfbDphICJS8g"
      },
      "source": [
        "model = tf.keras.models.Sequential([\n",
        "                                    tf.keras.layers.Embedding(10000,16,input_length=maxlen),\n",
        "                                    tf.keras.layers.Bidirectional(tf.keras.layers.LSTM(20, return_sequences=True)),\n",
        "                                    tf.keras.layers.Bidirectional(tf.keras.layers.LSTM(20)),\n",
        "                                    tf.keras.layers.Dense(6, activation='softmax')\n",
        "])\n",
        "model.compile(\n",
        "    loss='sparse_categorical_crossentropy',\n",
        "    optimizer='adam',\n",
        "    metrics=['accuracy']\n",
        ")"
      ],
      "execution_count": 70,
      "outputs": []
    },
    {
      "cell_type": "code",
      "metadata": {
        "colab": {
          "base_uri": "https://localhost:8080/"
        },
        "id": "IqregWqON0Np",
        "outputId": "c4830fff-aa30-459a-c731-54fb350aa226"
      },
      "source": [
        "model.summary()"
      ],
      "execution_count": 71,
      "outputs": [
        {
          "output_type": "stream",
          "text": [
            "Model: \"sequential_2\"\n",
            "_________________________________________________________________\n",
            "Layer (type)                 Output Shape              Param #   \n",
            "=================================================================\n",
            "embedding_2 (Embedding)      (None, 50, 16)            160000    \n",
            "_________________________________________________________________\n",
            "bidirectional_4 (Bidirection (None, 50, 40)            5920      \n",
            "_________________________________________________________________\n",
            "bidirectional_5 (Bidirection (None, 40)                9760      \n",
            "_________________________________________________________________\n",
            "dense_2 (Dense)              (None, 6)                 246       \n",
            "=================================================================\n",
            "Total params: 175,926\n",
            "Trainable params: 175,926\n",
            "Non-trainable params: 0\n",
            "_________________________________________________________________\n"
          ],
          "name": "stdout"
        }
      ]
    },
    {
      "cell_type": "code",
      "metadata": {
        "id": "K0I1haM9O-66"
      },
      "source": [
        "val_tweets, val_labels = get_tweet(val)\n",
        "val_seq = get_sequences(tokenizer, val_tweets)\n",
        "val_labels= names_to_ids(val_labels)"
      ],
      "execution_count": 74,
      "outputs": []
    },
    {
      "cell_type": "code",
      "metadata": {
        "colab": {
          "base_uri": "https://localhost:8080/"
        },
        "id": "FUqV3QzDPHUb",
        "outputId": "579adffc-4b91-4cdb-ebe8-27c9e479c67f"
      },
      "source": [
        "val_tweets[0], val_labels[0]"
      ],
      "execution_count": 75,
      "outputs": [
        {
          "output_type": "execute_result",
          "data": {
            "text/plain": [
              "('im feeling quite sad and sorry for myself but ill snap out of it soon', 1)"
            ]
          },
          "metadata": {
            "tags": []
          },
          "execution_count": 75
        }
      ]
    },
    {
      "cell_type": "code",
      "metadata": {
        "colab": {
          "base_uri": "https://localhost:8080/"
        },
        "id": "n1FqrC0DPos-",
        "outputId": "74679c27-f189-4cd2-f1ab-d90b25e5a74d"
      },
      "source": [
        "h = model.fit(\n",
        "    padded_train_seq, train_labels,\n",
        "    validation_data=(val_seq, val_labels),\n",
        "    epochs=20,\n",
        "    callbacks=[tf.keras.callbacks.EarlyStopping(monitor='val_accuracy', patience=2)]\n",
        ")"
      ],
      "execution_count": 179,
      "outputs": [
        {
          "output_type": "stream",
          "text": [
            "Epoch 1/20\n",
            "500/500 [==============================] - 20s 40ms/step - loss: 0.1018 - accuracy: 0.9661 - val_loss: 0.4007 - val_accuracy: 0.8860\n",
            "Epoch 2/20\n",
            "500/500 [==============================] - 20s 40ms/step - loss: 0.0750 - accuracy: 0.9746 - val_loss: 0.4525 - val_accuracy: 0.8845\n",
            "Epoch 3/20\n",
            "500/500 [==============================] - 20s 40ms/step - loss: 0.0629 - accuracy: 0.9795 - val_loss: 0.4368 - val_accuracy: 0.8940\n",
            "Epoch 4/20\n",
            "500/500 [==============================] - 20s 40ms/step - loss: 0.0548 - accuracy: 0.9818 - val_loss: 0.4377 - val_accuracy: 0.8970\n",
            "Epoch 5/20\n",
            "500/500 [==============================] - 20s 39ms/step - loss: 0.0507 - accuracy: 0.9841 - val_loss: 0.4447 - val_accuracy: 0.8950\n",
            "Epoch 6/20\n",
            "500/500 [==============================] - 20s 39ms/step - loss: 0.0440 - accuracy: 0.9861 - val_loss: 0.4592 - val_accuracy: 0.8960\n",
            "Epoch 7/20\n",
            "500/500 [==============================] - 20s 40ms/step - loss: 0.0431 - accuracy: 0.9858 - val_loss: 0.4423 - val_accuracy: 0.8965\n",
            "Epoch 8/20\n",
            "500/500 [==============================] - 20s 40ms/step - loss: 0.0435 - accuracy: 0.9856 - val_loss: 0.5157 - val_accuracy: 0.8880\n",
            "Epoch 9/20\n",
            "500/500 [==============================] - 20s 40ms/step - loss: 0.0376 - accuracy: 0.9880 - val_loss: 0.4481 - val_accuracy: 0.8980\n",
            "Epoch 10/20\n",
            "500/500 [==============================] - 20s 40ms/step - loss: 0.0519 - accuracy: 0.9838 - val_loss: 0.4050 - val_accuracy: 0.8985\n",
            "Epoch 11/20\n",
            "500/500 [==============================] - 20s 40ms/step - loss: 0.0301 - accuracy: 0.9892 - val_loss: 0.4446 - val_accuracy: 0.8980\n",
            "Epoch 12/20\n",
            "500/500 [==============================] - 20s 40ms/step - loss: 0.0261 - accuracy: 0.9923 - val_loss: 0.4775 - val_accuracy: 0.8945\n",
            "Epoch 13/20\n",
            "500/500 [==============================] - 20s 39ms/step - loss: 0.0300 - accuracy: 0.9904 - val_loss: 0.5003 - val_accuracy: 0.8950\n",
            "Epoch 14/20\n",
            "500/500 [==============================] - 20s 40ms/step - loss: 0.0296 - accuracy: 0.9891 - val_loss: 0.5025 - val_accuracy: 0.8875\n",
            "Epoch 15/20\n",
            "500/500 [==============================] - 20s 40ms/step - loss: 0.0247 - accuracy: 0.9911 - val_loss: 0.4840 - val_accuracy: 0.8955\n",
            "Epoch 16/20\n",
            "500/500 [==============================] - 20s 40ms/step - loss: 0.0223 - accuracy: 0.9921 - val_loss: 0.5029 - val_accuracy: 0.8885\n",
            "Epoch 17/20\n",
            "500/500 [==============================] - 20s 40ms/step - loss: 0.0224 - accuracy: 0.9920 - val_loss: 0.5267 - val_accuracy: 0.8930\n",
            "Epoch 18/20\n",
            "500/500 [==============================] - 20s 40ms/step - loss: 0.0227 - accuracy: 0.9912 - val_loss: 0.5316 - val_accuracy: 0.8930\n",
            "Epoch 19/20\n",
            "500/500 [==============================] - 20s 41ms/step - loss: 0.0168 - accuracy: 0.9941 - val_loss: 0.5345 - val_accuracy: 0.8925\n",
            "Epoch 20/20\n",
            "500/500 [==============================] - 20s 41ms/step - loss: 0.0183 - accuracy: 0.9929 - val_loss: 0.5135 - val_accuracy: 0.8940\n"
          ],
          "name": "stdout"
        }
      ]
    },
    {
      "cell_type": "code",
      "metadata": {
        "id": "8E5vdF8oRfMM"
      },
      "source": [
        "test_tweets, test_labels=get_tweet(test)\n",
        "test_seq = get_sequences(tokenizer, test_tweets)\n",
        "test_labels=names_to_ids(test_labels)"
      ],
      "execution_count": 78,
      "outputs": []
    },
    {
      "cell_type": "code",
      "metadata": {
        "colab": {
          "base_uri": "https://localhost:8080/"
        },
        "id": "c1d9a2vxRsfe",
        "outputId": "0cf70c3c-b1e0-4a50-debe-9d4650e3fdab"
      },
      "source": [
        "model.evaluate(test_seq, test_labels)"
      ],
      "execution_count": 180,
      "outputs": [
        {
          "output_type": "stream",
          "text": [
            "63/63 [==============================] - 1s 12ms/step - loss: 0.5289 - accuracy: 0.8865\n"
          ],
          "name": "stdout"
        },
        {
          "output_type": "execute_result",
          "data": {
            "text/plain": [
              "[0.5289077758789062, 0.8865000009536743]"
            ]
          },
          "metadata": {
            "tags": []
          },
          "execution_count": 180
        }
      ]
    },
    {
      "cell_type": "code",
      "metadata": {
        "colab": {
          "base_uri": "https://localhost:8080/",
          "height": 530
        },
        "id": "9rDdpqOqUoqC",
        "outputId": "9e6be7a3-ba6c-40c8-8d94-801f95121c8c"
      },
      "source": [
        "preds = model.predict_classes(test_seq)\n",
        "show_confusion_matrix(test_labels, preds, list(classes))"
      ],
      "execution_count": 185,
      "outputs": [
        {
          "output_type": "stream",
          "text": [
            "/usr/local/lib/python3.7/dist-packages/tensorflow/python/keras/engine/sequential.py:450: UserWarning: `model.predict_classes()` is deprecated and will be removed after 2021-01-01. Please use instead:* `np.argmax(model.predict(x), axis=-1)`,   if your model does multi-class classification   (e.g. if it uses a `softmax` last-layer activation).* `(model.predict(x) > 0.5).astype(\"int32\")`,   if your model does binary classification   (e.g. if it uses a `sigmoid` last-layer activation).\n",
            "  warnings.warn('`model.predict_classes()` is deprecated and '\n"
          ],
          "name": "stderr"
        },
        {
          "output_type": "display_data",
          "data": {
            "image/png": "[encoded data removed]",
            "text/plain": [
              "<Figure size 576x576 with 2 Axes>"
            ]
          },
          "metadata": {
            "tags": [],
            "needs_background": "light"
          }
        }
      ]
    },
    {
      "cell_type": "code",
      "metadata": {
        "colab": {
          "base_uri": "https://localhost:8080/"
        },
        "id": "oykFmHYkV7_V",
        "outputId": "be6bc05a-c6bd-4f63-f43b-382a18e55227"
      },
      "source": [
        "from google.colab import drive\n",
        "drive.mount('/content/drive')"
      ],
      "execution_count": 14,
      "outputs": [
        {
          "output_type": "stream",
          "text": [
            "Mounted at /content/drive\n"
          ],
          "name": "stdout"
        }
      ]
    },
    {
      "cell_type": "code",
      "metadata": {
        "id": "0ADBfuj2WCXd"
      },
      "source": [
        "model.save(\"/content/drive/My Drive/TweetEmotionRecognition/h5/tweet_model.h5\")"
      ],
      "execution_count": 196,
      "outputs": []
    },
    {
      "cell_type": "code",
      "metadata": {
        "colab": {
          "base_uri": "https://localhost:8080/"
        },
        "id": "lw0f8aVPWNcx",
        "outputId": "64784cb0-bda4-4c4b-f755-420b65a8995a"
      },
      "source": [
        "# model.save(\"/content/drive/My Drive/TweetEmotionRecognition/model/\")"
      ],
      "execution_count": 103,
      "outputs": [
        {
          "output_type": "stream",
          "text": [
            "WARNING:absl:Found untraced functions such as lstm_cell_13_layer_call_and_return_conditional_losses, lstm_cell_13_layer_call_fn, lstm_cell_14_layer_call_and_return_conditional_losses, lstm_cell_14_layer_call_fn, lstm_cell_16_layer_call_and_return_conditional_losses while saving (showing 5 of 20). These functions will not be directly callable after loading.\n",
            "WARNING:absl:Found untraced functions such as lstm_cell_13_layer_call_and_return_conditional_losses, lstm_cell_13_layer_call_fn, lstm_cell_14_layer_call_and_return_conditional_losses, lstm_cell_14_layer_call_fn, lstm_cell_16_layer_call_and_return_conditional_losses while saving (showing 5 of 20). These functions will not be directly callable after loading.\n"
          ],
          "name": "stderr"
        },
        {
          "output_type": "stream",
          "text": [
            "INFO:tensorflow:Assets written to: /content/drive/My Drive/TweetEmotionRecognition/model/assets\n"
          ],
          "name": "stdout"
        },
        {
          "output_type": "stream",
          "text": [
            "INFO:tensorflow:Assets written to: /content/drive/My Drive/TweetEmotionRecognition/model/assets\n"
          ],
          "name": "stderr"
        }
      ]
    },
    {
      "cell_type": "code",
      "metadata": {
        "colab": {
          "base_uri": "https://localhost:8080/"
        },
        "id": "T8rmxEivR09T",
        "outputId": "fbfdbeea-5fb5-4381-c34b-f0ad75923c16"
      },
      "source": [
        "i = random.randint(0,len(test_labels)-1)\n",
        "print('Sentence:', test_tweets[i])\n",
        "print('Emotion:', index_to_class[test_labels[i]])\n",
        "p = model.predict(np.expand_dims(test_seq[i], axis=0))[0]\n",
        "print(test_seq[i])\n",
        "pred_class=index_to_class[np.argmax(p).astype('uint8')]\n",
        "\n",
        "print('Predicted Emotion: ', pred_class)"
      ],
      "execution_count": 184,
      "outputs": [
        {
          "output_type": "stream",
          "text": [
            "Sentence: i will try and stay focused in order to avoid that feeling of a reluctant finish\n",
            "Emotion: fear\n",
            "[   2   59  204    4  575 1585   12  758    5 1416    9    8   10    7\n",
            "  539  935    0    0    0    0    0    0    0    0    0    0    0    0\n",
            "    0    0    0    0    0    0    0    0    0    0    0    0    0    0\n",
            "    0    0    0    0    0    0    0    0]\n",
            "Predicted Emotion:  fear\n"
          ],
          "name": "stdout"
        }
      ]
    },
    {
      "cell_type": "code",
      "metadata": {
        "colab": {
          "base_uri": "https://localhost:8080/"
        },
        "id": "g0g3IpBApsG9",
        "outputId": "ba6bb322-5b6c-476a-8044-9f4cab8c2eab"
      },
      "source": [
        "sequence = tokenizer.texts_to_sequences([\"i am angry\"])\n",
        "paddedSequence = pad_sequences(sequence, truncating = 'post', padding='post', maxlen=maxlen)\n",
        "p = model.predict(np.expand_dims(paddedSequence[0], axis=0))[0]\n",
        "print(paddedSequence[0])\n",
        "pred_class=index_to_class[np.argmax(p).astype('uint8')]\n",
        "\n",
        "print('Predicted Emotion: ', pred_class)\n",
        "print(p)\n",
        "print(index_to_class)"
      ],
      "execution_count": 201,
      "outputs": [
        {
          "output_type": "stream",
          "text": [
            "[  2  24 264   0   0   0   0   0   0   0   0   0   0   0   0   0   0   0\n",
            "   0   0   0   0   0   0   0   0   0   0   0   0   0   0   0   0   0   0\n",
            "   0   0   0   0   0   0   0   0   0   0   0   0   0   0]\n",
            "Predicted Emotion:  anger\n",
            "[0.00389229 0.01410565 0.00155318 0.9459983  0.02512505 0.00932543]\n",
            "{0: 'love', 1: 'sadness', 2: 'joy', 3: 'anger', 4: 'surprise', 5: 'fear'}\n"
          ],
          "name": "stdout"
        }
      ]
    },
    {
      "cell_type": "code",
      "metadata": {
        "colab": {
          "base_uri": "https://localhost:8080/"
        },
        "id": "n653hHm7rlLH",
        "outputId": "a858f8b5-e17a-48c7-c2c6-249662773654"
      },
      "source": [
        "load_model = tf.keras.models.load_model(\"/content/drive/My Drive/TweetEmotionRecognition/h5/tweet_model.h5\")\n",
        "print(load_model.summary())"
      ],
      "execution_count": 18,
      "outputs": [
        {
          "output_type": "stream",
          "text": [
            "Model: \"sequential_2\"\n",
            "_________________________________________________________________\n",
            "Layer (type)                 Output Shape              Param #   \n",
            "=================================================================\n",
            "embedding_2 (Embedding)      (None, 50, 16)            160000    \n",
            "_________________________________________________________________\n",
            "bidirectional_4 (Bidirection (None, 50, 40)            5920      \n",
            "_________________________________________________________________\n",
            "bidirectional_5 (Bidirection (None, 40)                9760      \n",
            "_________________________________________________________________\n",
            "dense_2 (Dense)              (None, 6)                 246       \n",
            "=================================================================\n",
            "Total params: 175,926\n",
            "Trainable params: 175,926\n",
            "Non-trainable params: 0\n",
            "_________________________________________________________________\n",
            "None\n"
          ],
          "name": "stdout"
        }
      ]
    },
    {
      "cell_type": "code",
      "metadata": {
        "colab": {
          "base_uri": "https://localhost:8080/"
        },
        "id": "SG_yrHkTs6P0",
        "outputId": "e8793f2b-09c7-44ca-b73b-89000a8fd2da"
      },
      "source": [
        "sentence = 'i am not sure what to do'\n",
        "sequence = tokenizer.texts_to_sequences([sentence])\n",
        "paddedSequence = pad_sequences(sequence, truncating = 'post', padding='post', maxlen=maxlen)\n",
        "p = load_model.predict(np.expand_dims(paddedSequence[0], axis=0))[0]\n",
        "pred_class=index_to_class[np.argmax(p).astype('uint8')]\n",
        "\n",
        "print('Sentence:', sentence)\n",
        "print('Predicted Emotion: ', pred_class)"
      ],
      "execution_count": 87,
      "outputs": [
        {
          "output_type": "stream",
          "text": [
            "Sentence: i am not sure what to do\n",
            "Predicted Emotion:  fear\n"
          ],
          "name": "stdout"
        }
      ]
    }
  ]
}